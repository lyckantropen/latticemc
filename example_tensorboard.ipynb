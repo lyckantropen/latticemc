{
 "cells": [
  {
   "cell_type": "markdown",
   "id": "3b1391ed",
   "metadata": {},
   "source": [
    "# TensorBoard Integration with LatticeMC\n",
    "\n",
    "This notebook demonstrates how to use TensorBoard to visualize simulation progress with immediate logging."
   ]
  },
  {
   "cell_type": "code",
   "execution_count": null,
   "id": "d3e45a82",
   "metadata": {},
   "outputs": [],
   "source": [
    "import numpy as np\n",
    "from decimal import Decimal"
   ]
  },
  {
   "cell_type": "code",
   "execution_count": null,
   "id": "cfba640c",
   "metadata": {},
   "outputs": [],
   "source": [
    "from latticemc.definitions import Lattice, LatticeState, OrderParametersHistory, DefiningParameters\n",
    "from latticemc.lattice_tools import initialize_partially_ordered\n",
    "from latticemc.random_quaternion import random_quaternion\n",
    "from latticemc.updaters import AcceptanceRateWiggleRateAdjustor, RandomWiggleRateAdjustor\n",
    "from latticemc.parallel import SimulationRunner, ProgressBarMode"
   ]
  },
  {
   "cell_type": "markdown",
   "id": "5f4f6606",
   "metadata": {},
   "source": [
    "## Set up simulation with TensorBoard logging enabled\n",
    "\n",
    "We'll create a simulation with multiple temperatures and enable TensorBoard logging.\n",
    "With the new immediate logging approach, data is logged as soon as it's received from simulation processes."
   ]
  },
  {
   "cell_type": "code",
   "execution_count": null,
   "id": "e6730a93",
   "metadata": {},
   "outputs": [],
   "source": [
    "# Setup simulation with multiple temperatures\n",
    "temperatures = np.arange(0.3, 1.7, 0.05)  # Fewer temps for faster demo\n",
    "states = [LatticeState(parameters=DefiningParameters(temperature=round(Decimal(t), 2), lam=round(Decimal(0.3),2), tau=1),\n",
    "                       lattice=Lattice(16, 16, 16))  # Smaller lattice for faster demo\n",
    "          for t in temperatures]\n",
    "for state in states:\n",
    "    initialize_partially_ordered(state.lattice, x=random_quaternion(1.0))\n",
    "\n",
    "order_parameters_history = {state.parameters: OrderParametersHistory(state.lattice.size) for state in states}"
   ]
  },
  {
   "cell_type": "code",
   "execution_count": null,
   "id": "579fe400",
   "metadata": {},
   "outputs": [],
   "source": [
    "# Setup updaters\n",
    "per_state_updaters = [\n",
    "    AcceptanceRateWiggleRateAdjustor(how_often=20, since_when=20),\n",
    "    RandomWiggleRateAdjustor(scale=0.001, how_often=100, since_when=100, until=1000),\n",
    "    RandomWiggleRateAdjustor(scale=1.0, reset_value=1.0, how_often=500, since_when=500, until=1000)\n",
    "]\n"
   ]
  },
  {
   "cell_type": "code",
   "execution_count": null,
   "id": "67e07192",
   "metadata": {},
   "outputs": [],
   "source": [
    "[state.parameters for state in states]"
   ]
  },
  {
   "cell_type": "markdown",
   "id": "4927c3bb",
   "metadata": {},
   "source": [
    "## Thermalization"
   ]
  },
  {
   "cell_type": "code",
   "execution_count": null,
   "id": "dabc66f8",
   "metadata": {},
   "outputs": [],
   "source": [
    "# Setup simulation runner for thermalization\n",
    "order_parameters_history_thermalization = {state.parameters: OrderParametersHistory(state.lattice.size) for state in states}\n",
    "runner_thermalization = SimulationRunner(initial_states=states,\n",
    "                          order_parameters_history=order_parameters_history_thermalization,\n",
    "                          cycles=10000,\n",
    "                          per_state_updaters=per_state_updaters,\n",
    "                          progress_bar_mode=ProgressBarMode.NOTEBOOK,\n",
    "                          report_order_parameters_every=500,\n",
    "                          report_state_every=500,\n",
    "                          parallel_tempering_interval=10,  # More frequent PT swaps during thermalization\n",
    "                          save_interval=500,\n",
    "                          working_folder='./tensorboard_demo/thermalization',\n",
    "                          plot_recent_points=500,\n",
    "                          auto_recover=True)\n",
    "runner_thermalization.start()\n"
   ]
  },
  {
   "cell_type": "code",
   "execution_count": null,
   "id": "59200bf2",
   "metadata": {},
   "outputs": [],
   "source": [
    "\n",
    "runner_thermalization.finished_gracefully()"
   ]
  },
  {
   "cell_type": "code",
   "execution_count": null,
   "id": "64279611",
   "metadata": {},
   "outputs": [],
   "source": [
    "runner_thermalization.stop()"
   ]
  },
  {
   "cell_type": "markdown",
   "id": "af40cfdf",
   "metadata": {},
   "source": [
    "## Configure main simulation"
   ]
  },
  {
   "cell_type": "code",
   "execution_count": null,
   "id": "c45233db",
   "metadata": {},
   "outputs": [],
   "source": [
    "# Setup updaters\n",
    "per_state_updaters = [\n",
    "    AcceptanceRateWiggleRateAdjustor(how_often=20, since_when=20),\n",
    "]\n",
    "\n",
    "runner = SimulationRunner(states,\n",
    "                         order_parameters_history,\n",
    "                         cycles=50000,\n",
    "                         report_order_parameters_every=100,\n",
    "                         report_state_every=100,\n",
    "                         per_state_updaters=per_state_updaters,\n",
    "                         parallel_tempering_interval=100,\n",
    "                         save_interval=1000,\n",
    "                         plot_recent_points=1000,\n",
    "                         working_folder='./tensorboard_demo',  # TensorBoard logs go to ./tensorboard_demo/tensorboard\n",
    "                         progress_bar_mode=ProgressBarMode.NOTEBOOK,\n",
    "                         auto_recover=True)"
   ]
  },
  {
   "cell_type": "markdown",
   "id": "ffd8307b",
   "metadata": {},
   "source": [
    "## Start the simulation\n",
    "\n",
    "Run the simulation and TensorBoard logging will happen automatically as data is received:\n",
    "- Order parameters are logged immediately when received\n",
    "- Fluctuations are logged immediately when received  \n",
    "- Lattice states (including energy and acceptance rates) are logged when state updates are received"
   ]
  },
  {
   "cell_type": "markdown",
   "id": "2ef2cba9",
   "metadata": {},
   "source": [
    "## Progress Bars\n",
    "\n",
    "The simulation now includes progress bars to track the simulation progress:\n",
    "- **Main progress bar**: Shows overall simulation progress across all temperatures\n",
    "- **Per-simulation progress bars**: Individual progress for each temperature simulation\n",
    "\n",
    "These progress bars work seamlessly with TensorBoard logging and provide real-time feedback on simulation status."
   ]
  },
  {
   "cell_type": "code",
   "execution_count": null,
   "id": "cadd86cb",
   "metadata": {},
   "outputs": [],
   "source": [
    "# Start the simulation\n",
    "runner.start()"
   ]
  },
  {
   "cell_type": "markdown",
   "id": "5c2ba43c",
   "metadata": {},
   "source": [
    "## Launch TensorBoard\n",
    "\n",
    "While the simulation is running, you can launch TensorBoard in a new terminal to visualize the progress:\n",
    "\n",
    "```bash\n",
    "tensorboard --logdir=./tensorboard_demo/tensorboard\n",
    "```\n",
    "\n",
    "This will start a local server, typically at http://localhost:6006, where you can view the visualizations.\n",
    "\n",
    "### What you'll see in TensorBoard:\n",
    "\n",
    "1. **Order Parameters**: Real-time plots of energy, q0, q2, w, p, d322 for each temperature\n",
    "2. **Fluctuations**: Real-time fluctuation measurements for each order parameter\n",
    "3. **Acceptance Rates**: Live monitoring of orientation and parity move acceptance rates\n",
    "4. **Lattice Energy**: Energy values from lattice averages updated as states are received"
   ]
  },
  {
   "cell_type": "code",
   "execution_count": null,
   "id": "cd40cf56",
   "metadata": {},
   "outputs": [],
   "source": [
    "# If you want to stop the simulation early\n",
    "runner.stop()"
   ]
  },
  {
   "cell_type": "code",
   "execution_count": null,
   "id": "61c63119",
   "metadata": {},
   "outputs": [],
   "source": [
    "# Check if the simulation is still running\n",
    "runner.alive()"
   ]
  },
  {
   "cell_type": "code",
   "execution_count": null,
   "id": "2c7d61e9",
   "metadata": {},
   "outputs": [],
   "source": [
    "# When done, check if it finished properly\n",
    "runner.finished_gracefully()"
   ]
  },
  {
   "cell_type": "markdown",
   "id": "f822cf02",
   "metadata": {},
   "source": [
    "# Analyzing Results with Pandas\n",
    "\n",
    "After the simulation completes, you can analyze the comprehensive data that was saved in CSV and XZ formats. The simulation creates several types of data files for analysis."
   ]
  },
  {
   "cell_type": "code",
   "execution_count": null,
   "id": "425aa3ad",
   "metadata": {},
   "outputs": [],
   "source": [
    "import pandas as pd\n",
    "import matplotlib.pyplot as plt\n",
    "import numpy as np\n",
    "from pathlib import Path\n",
    "\n",
    "# Load the final parameter summary data (contains decorrelated averages over full history)\n",
    "data_path = Path('./tensorboard_demo/data/')\n",
    "\n",
    "# Load the comprehensive parameter summary table\n",
    "# This contains one row per parameter set with all averaged quantities\n",
    "df_summary = pd.read_pickle(data_path / 'parameter_summary_final.xz')\n",
    "\n",
    "# Display basic info about the data\n",
    "print(f\"Data shape: {df_summary.shape}\")\n",
    "print(f\"Temperature range: {df_summary['temperature'].min():.2f} - {df_summary['temperature'].max():.2f}\")\n",
    "print(\"\\nAvailable columns:\")\n",
    "print([col for col in df_summary.columns if col.startswith(('avg_', 'fluct_', 'hist_fluct_'))])"
   ]
  },
  {
   "cell_type": "code",
   "execution_count": null,
   "id": "7da08a87",
   "metadata": {},
   "outputs": [],
   "source": [
    "%matplotlib inline\n",
    "# Create comprehensive temperature plots showing order parameters and energy fluctuations\n",
    "fig, axes = plt.subplots(2, 3, figsize=(15, 10))\n",
    "fig.suptitle('Temperature Dependence of Order Parameters and Energy Fluctuations', fontsize=16)\n",
    "\n",
    "# Sort data by temperature for smooth curves\n",
    "df_sorted = df_summary.sort_values('temperature')\n",
    "temps = df_sorted['temperature']\n",
    "\n",
    "# Plot order parameters: q0, q2, p, d322\n",
    "axes[0, 0].plot(temps, df_sorted['avg_q0'], 'bo-', label='q0', markersize=4)\n",
    "axes[0, 0].set_ylabel('Average q0')\n",
    "axes[0, 0].set_title('Orientational Order Parameter q0')\n",
    "axes[0, 0].grid(True, alpha=0.3)\n",
    "\n",
    "axes[0, 1].plot(temps, df_sorted['avg_q2'], 'ro-', label='q2', markersize=4)\n",
    "axes[0, 1].set_ylabel('Average q2')\n",
    "axes[0, 1].set_title('Orientational Order Parameter q2')\n",
    "axes[0, 1].grid(True, alpha=0.3)\n",
    "\n",
    "axes[0, 2].plot(temps, df_sorted['avg_p'], 'go-', label='p', markersize=4)\n",
    "axes[0, 2].set_ylabel('Average p')\n",
    "axes[0, 2].set_title('Parity Order Parameter p')\n",
    "axes[0, 2].grid(True, alpha=0.3)\n",
    "\n",
    "axes[1, 0].plot(temps, df_sorted['avg_d322'], 'mo-', label='d322', markersize=4)\n",
    "axes[1, 0].set_ylabel('Average d322')\n",
    "axes[1, 0].set_xlabel('Temperature')\n",
    "axes[1, 0].set_title('Asymmetric Order Parameter d322')\n",
    "axes[1, 0].grid(True, alpha=0.3)\n",
    "\n",
    "# Plot energy fluctuations (both measured during simulation and calculated from history)\n",
    "axes[1, 1].plot(temps, df_sorted['fluct_energy'], 'co-', label='Measured', markersize=4)\n",
    "axes[1, 1].plot(temps, df_sorted['hist_fluct_energy'], 'k^-', label='From History', markersize=3, alpha=0.7)\n",
    "axes[1, 1].set_ylabel('Energy Fluctuations')\n",
    "axes[1, 1].set_xlabel('Temperature')\n",
    "axes[1, 1].set_title('Energy Fluctuations')\n",
    "axes[1, 1].legend()\n",
    "axes[1, 1].grid(True, alpha=0.3)\n",
    "\n",
    "# Heat capacity (proportional to energy fluctuations / T^2)\n",
    "heat_capacity = df_sorted['hist_fluct_energy'] / (df_sorted['temperature']**2)\n",
    "axes[1, 2].plot(temps, heat_capacity, 'rs-', label='C ∝ ⟨ΔE²⟩/T²', markersize=4)\n",
    "axes[1, 2].set_ylabel('Heat Capacity (rel. units)')\n",
    "axes[1, 2].set_xlabel('Temperature')\n",
    "axes[1, 2].set_title('Heat Capacity from Energy Fluctuations')\n",
    "axes[1, 2].grid(True, alpha=0.3)\n",
    "\n",
    "plt.tight_layout()"
   ]
  },
  {
   "cell_type": "code",
   "execution_count": null,
   "id": "6a7d1e2c",
   "metadata": {},
   "outputs": [],
   "source": [
    "# Analyze time-series data for specific temperatures\n",
    "# Load detailed time-series data for a specific parameter set (e.g., T=0.8)\n",
    "\n",
    "# Find available parameter folders\n",
    "param_folders = list(Path('./tensorboard_demo/parameters/').glob('T*'))\n",
    "print(f\"Found {len(param_folders)} parameter sets:\")\n",
    "for folder in sorted(param_folders)[:5]:  # Show first 5\n",
    "    print(f\"  {folder.name}\")\n",
    "\n",
    "# Load time-series data for a mid-temperature case (around T=0.8)\n",
    "if param_folders:\n",
    "    # Find folder with temperature closest to 0.8\n",
    "    target_temp = 0.8\n",
    "    best_folder = min(param_folders, \n",
    "                     key=lambda p: abs(float(p.name.split('_')[0][1:]) - target_temp))\n",
    "    \n",
    "    print(f\"\\nAnalyzing detailed time-series for: {best_folder.name}\")\n",
    "    \n",
    "    # Load the complete time-series data\n",
    "    timeseries_path = best_folder / 'data' / 'timeseries.xz'\n",
    "    if timeseries_path.exists():\n",
    "        df_timeseries = pd.read_pickle(timeseries_path)\n",
    "        \n",
    "        # Create time-series plots\n",
    "        fig, axes = plt.subplots(2, 2, figsize=(12, 8))\n",
    "        fig.suptitle(f'Time Series Analysis: {best_folder.name}', fontsize=14)\n",
    "        \n",
    "        # Plot order parameter evolution\n",
    "        axes[0, 0].plot(df_timeseries['step'], df_timeseries['op_q0'], alpha=0.7)\n",
    "        axes[0, 0].set_ylabel('q0')\n",
    "        axes[0, 0].set_title('q0 Evolution')\n",
    "        axes[0, 0].grid(True, alpha=0.3)\n",
    "        \n",
    "        # Plot energy evolution with fluctuations\n",
    "        axes[0, 1].plot(df_timeseries['step'], df_timeseries['op_energy'], alpha=0.7)\n",
    "        axes[0, 1].fill_between(df_timeseries['step'], \n",
    "                               df_timeseries['op_energy'] - df_timeseries['fl_energy'],\n",
    "                               df_timeseries['op_energy'] + df_timeseries['fl_energy'],\n",
    "                               alpha=0.3, label='±1σ fluctuations')\n",
    "        axes[0, 1].set_ylabel('Energy')\n",
    "        axes[0, 1].set_title('Energy with Fluctuations')\n",
    "        axes[0, 1].legend()\n",
    "        axes[0, 1].grid(True, alpha=0.3)\n",
    "        \n",
    "        # Plot correlation between order parameters\n",
    "        axes[1, 0].scatter(df_timeseries['op_q0'], df_timeseries['op_q2'], \n",
    "                          alpha=0.6, s=1)\n",
    "        axes[1, 0].set_xlabel('q0')\n",
    "        axes[1, 0].set_ylabel('q2')\n",
    "        axes[1, 0].set_title('q0 vs q2 Correlation')\n",
    "        axes[1, 0].grid(True, alpha=0.3)\n",
    "        \n",
    "        # Plot running averages\n",
    "        window = len(df_timeseries) // 20  # Use 5% window\n",
    "        df_timeseries['q0_rolling'] = df_timeseries['op_q0'].rolling(window).mean()\n",
    "        axes[1, 1].plot(df_timeseries['step'], df_timeseries['op_q0'], alpha=0.3, label='Raw')\n",
    "        axes[1, 1].plot(df_timeseries['step'], df_timeseries['q0_rolling'], 'r-', label=f'Rolling mean ({window} steps)')\n",
    "        axes[1, 1].set_xlabel('Step')\n",
    "        axes[1, 1].set_ylabel('q0')\n",
    "        axes[1, 1].set_title('Equilibration Analysis')\n",
    "        axes[1, 1].legend()\n",
    "        axes[1, 1].grid(True, alpha=0.3)\n",
    "        \n",
    "        plt.tight_layout()\n",
    "        plt.show()\n",
    "        \n",
    "        print(f\"\\nTime-series statistics:\")\n",
    "        print(f\"Total steps: {len(df_timeseries)}\")\n",
    "        print(f\"Final q0: {df_timeseries['op_q0'].iloc[-1]:.4f}\")\n",
    "        print(f\"Average energy: {df_timeseries['op_energy'].mean():.4f}\")\n",
    "    else:\n",
    "        print(f\"Time-series file not found at {timeseries_path}\")\n",
    "else:\n",
    "    print(\"No parameter folders found. Make sure the simulation completed successfully.\")"
   ]
  }
 ],
 "metadata": {
  "kernelspec": {
   "display_name": ".venv",
   "language": "python",
   "name": "python3"
  },
  "language_info": {
   "codemirror_mode": {
    "name": "ipython",
    "version": 3
   },
   "file_extension": ".py",
   "mimetype": "text/x-python",
   "name": "python",
   "nbconvert_exporter": "python",
   "pygments_lexer": "ipython3",
   "version": "3.12.10"
  }
 },
 "nbformat": 4,
 "nbformat_minor": 5
}

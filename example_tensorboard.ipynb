{
 "cells": [
  {
   "cell_type": "markdown",
   "id": "3b1391ed",
   "metadata": {},
   "source": [
    "# TensorBoard Integration with LatticeMC\n",
    "\n",
    "This notebook demonstrates how to use TensorBoard to visualize simulation progress with immediate logging."
   ]
  },
  {
   "cell_type": "code",
   "execution_count": null,
   "id": "f7107c12",
   "metadata": {},
   "outputs": [],
   "source": [
    "import logging\n",
    "import sys\n",
    "\n",
    "root = logging.getLogger()\n",
    "root.setLevel(logging.DEBUG)\n",
    "# create console handler\n",
    "ch = logging.StreamHandler(sys.stdout)\n",
    "ch.setLevel(logging.WARNING)\n",
    "# create formatter\n",
    "formatter = logging.Formatter('%(asctime)s - %(name)s - %(levelname)s - %(message)s')\n",
    "# add formatter to console handler\n",
    "ch.setFormatter(formatter)\n",
    "# add console handler to root logger\n",
    "root.addHandler(ch)"
   ]
  },
  {
   "cell_type": "code",
   "execution_count": null,
   "id": "d3e45a82",
   "metadata": {},
   "outputs": [],
   "source": [
    "import numpy as np\n",
    "from decimal import Decimal"
   ]
  },
  {
   "cell_type": "code",
   "execution_count": null,
   "id": "cfba640c",
   "metadata": {},
   "outputs": [],
   "source": [
    "from latticemc.definitions import Lattice, LatticeState, OrderParametersHistory, DefiningParameters\n",
    "from latticemc.lattice_tools import initialize_partially_ordered\n",
    "from latticemc.random_quaternion import random_quaternion\n",
    "from latticemc.updaters import AcceptanceRateWiggleRateAdjustor, RandomWiggleRateAdjustor\n",
    "from latticemc.parallel import SimulationRunner"
   ]
  },
  {
   "cell_type": "markdown",
   "id": "5f4f6606",
   "metadata": {},
   "source": [
    "## Set up simulation with TensorBoard logging enabled\n",
    "\n",
    "We'll create a simulation with multiple temperatures and enable TensorBoard logging.\n",
    "With the new immediate logging approach, data is logged as soon as it's received from simulation processes."
   ]
  },
  {
   "cell_type": "code",
   "execution_count": null,
   "id": "e6730a93",
   "metadata": {},
   "outputs": [],
   "source": [
    "# Setup simulation with multiple temperatures\n",
    "temperatures = np.arange(0.3, 1.7, 0.05)  # Fewer temps for faster demo\n",
    "states = [LatticeState(parameters=DefiningParameters(temperature=round(Decimal(t), 2), lam=Decimal(0.3), tau=1),\n",
    "                       lattice=Lattice(8, 8, 8))  # Smaller lattice for faster demo\n",
    "          for t in temperatures]\n",
    "for state in states:\n",
    "    initialize_partially_ordered(state.lattice, x=random_quaternion(1.0))\n",
    "\n",
    "order_parameters_history = {state.parameters: OrderParametersHistory() for state in states}"
   ]
  },
  {
   "cell_type": "code",
   "execution_count": null,
   "id": "156cf5cb",
   "metadata": {},
   "outputs": [],
   "source": [
    "# Setup updaters\n",
    "per_state_updaters = [\n",
    "    AcceptanceRateWiggleRateAdjustor(how_often=50, since_when=10),\n",
    "    RandomWiggleRateAdjustor(scale=0.001, how_often=10, since_when=10),\n",
    "    RandomWiggleRateAdjustor(scale=1.0, reset_value=1.0, how_often=500, since_when=500)\n",
    "]\n",
    "\n",
    "# Create simulation runner with TensorBoard logging enabled\n",
    "runner = SimulationRunner(states,\n",
    "                         order_parameters_history,\n",
    "                         cycles=10000,  # Fewer cycles for faster demo\n",
    "                         report_order_parameters_every=100,\n",
    "                         report_state_every=500,\n",
    "                         per_state_updaters=per_state_updaters,\n",
    "                         parallel_tempering_interval=50,\n",
    "                         tensorboard_log_dir='./tensorboard_logs')"
   ]
  },
  {
   "cell_type": "markdown",
   "id": "ffd8307b",
   "metadata": {},
   "source": [
    "## Start the simulation\n",
    "\n",
    "Run the simulation and TensorBoard logging will happen automatically as data is received:\n",
    "- Order parameters are logged immediately when received\n",
    "- Fluctuations are logged immediately when received  \n",
    "- Lattice states (including energy and acceptance rates) are logged when state updates are received"
   ]
  },
  {
   "cell_type": "code",
   "execution_count": null,
   "id": "cadd86cb",
   "metadata": {},
   "outputs": [],
   "source": [
    "# Start the simulation\n",
    "runner.start()"
   ]
  },
  {
   "cell_type": "markdown",
   "id": "5c2ba43c",
   "metadata": {},
   "source": [
    "## Launch TensorBoard\n",
    "\n",
    "While the simulation is running, you can launch TensorBoard in a new terminal to visualize the progress:\n",
    "\n",
    "```bash\n",
    "tensorboard --logdir=./tensorboard_logs\n",
    "```\n",
    "\n",
    "This will start a local server, typically at http://localhost:6006, where you can view the visualizations.\n",
    "\n",
    "### What you'll see in TensorBoard:\n",
    "\n",
    "1. **Order Parameters**: Real-time plots of energy, q0, q2, w, p, d322 for each temperature\n",
    "2. **Fluctuations**: Real-time fluctuation measurements for each order parameter\n",
    "3. **Acceptance Rates**: Live monitoring of orientation and parity move acceptance rates\n",
    "4. **Lattice Energy**: Energy values from lattice averages updated as states are received"
   ]
  },
  {
   "cell_type": "code",
   "execution_count": null,
   "id": "cd40cf56",
   "metadata": {},
   "outputs": [],
   "source": [
    "# If you want to stop the simulation early\n",
    "# runner.stop()"
   ]
  },
  {
   "cell_type": "code",
   "execution_count": null,
   "id": "61c63119",
   "metadata": {},
   "outputs": [],
   "source": [
    "# Check if the simulation is still running\n",
    "runner.alive()"
   ]
  },
  {
   "cell_type": "code",
   "execution_count": null,
   "id": "2c7d61e9",
   "metadata": {},
   "outputs": [],
   "source": [
    "# When done, check if it finished properly\n",
    "runner.finished_gracefully()"
   ]
  },
  {
   "cell_type": "markdown",
   "id": "b4bc6380",
   "metadata": {},
   "source": [
    "## Benefits of Immediate Logging\n",
    "\n",
    "The new immediate logging approach provides several advantages:\n",
    "\n",
    "1. **Real-time monitoring**: See data as soon as it's computed\n",
    "2. **Lower memory usage**: No need to batch data before logging\n",
    "3. **Better responsiveness**: TensorBoard updates continuously during simulation\n",
    "4. **Specific data logging**: Only log what's actually received/computed\n",
    "5. **Failure resilience**: Data is logged even if simulation crashes partway through"
   ]
  }
 ],
 "metadata": {
  "kernelspec": {
   "display_name": ".venv",
   "language": "python",
   "name": "python3"
  },
  "language_info": {
   "codemirror_mode": {
    "name": "ipython",
    "version": 3
   },
   "file_extension": ".py",
   "mimetype": "text/x-python",
   "name": "python",
   "nbconvert_exporter": "python",
   "pygments_lexer": "ipython3",
   "version": "3.12.10"
  }
 },
 "nbformat": 4,
 "nbformat_minor": 5
}

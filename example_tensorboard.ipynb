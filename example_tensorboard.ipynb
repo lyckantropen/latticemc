{
 "cells": [
  {
   "cell_type": "markdown",
   "id": "3b1391ed",
   "metadata": {},
   "source": [
    "# Simulation demo"
   ]
  },
  {
   "cell_type": "code",
   "execution_count": 1,
   "id": "d3e45a82",
   "metadata": {},
   "outputs": [],
   "source": [
    "import numpy as np\n",
    "from decimal import Decimal"
   ]
  },
  {
   "cell_type": "code",
   "execution_count": 2,
   "id": "cfba640c",
   "metadata": {},
   "outputs": [],
   "source": [
    "from latticemc.definitions import Lattice, LatticeState, OrderParametersHistory, DefiningParameters\n",
    "from latticemc.lattice_tools import initialize_partially_ordered\n",
    "from latticemc.random_quaternion import random_quaternion\n",
    "from latticemc.updaters import AcceptanceRateWiggleRateAdjustor, RandomWiggleRateAdjustor\n",
    "from latticemc.parallel import SimulationRunner, ProgressBarMode"
   ]
  },
  {
   "cell_type": "markdown",
   "id": "5f4f6606",
   "metadata": {},
   "source": [
    "## Set up simulation\n",
    "\n",
    "We'll create a simulation with multiple temperatures.\n",
    "With the new immediate logging approach, data is logged as soon as it's received from simulation processes."
   ]
  },
  {
   "cell_type": "code",
   "execution_count": 3,
   "id": "e6730a93",
   "metadata": {},
   "outputs": [],
   "source": [
    "# Setup simulation with multiple temperatures\n",
    "temperatures = np.arange(0.3, 1.7, 0.1)  # Fewer temps for faster demo\n",
    "states = [LatticeState(parameters=DefiningParameters(temperature=round(Decimal(t), 2), lam=round(Decimal(0.3),2), tau=1),\n",
    "                       lattice=Lattice(10, 10, 10))  # Smaller lattice for faster demo\n",
    "          for t in temperatures]\n",
    "for state in states:\n",
    "    initialize_partially_ordered(state.lattice, x=random_quaternion(1.0))\n",
    "\n",
    "order_parameters_history = {state.parameters: OrderParametersHistory(state.lattice.size) for state in states}"
   ]
  },
  {
   "cell_type": "code",
   "execution_count": 4,
   "id": "579fe400",
   "metadata": {},
   "outputs": [],
   "source": [
    "# Setup updaters\n",
    "per_state_updaters = [\n",
    "    AcceptanceRateWiggleRateAdjustor(how_often=20, since_when=20),\n",
    "    RandomWiggleRateAdjustor(scale=0.001, how_often=100, since_when=100, until=1000),\n",
    "    RandomWiggleRateAdjustor(scale=1.0, reset_value=1.0, how_often=500, since_when=500, until=1000)\n",
    "]\n"
   ]
  },
  {
   "cell_type": "code",
   "execution_count": 5,
   "id": "67e07192",
   "metadata": {},
   "outputs": [
    {
     "data": {
      "text/plain": [
       "[DefiningParameters(temperature=Decimal('0.30'), tau=1, lam=Decimal('0.30')),\n",
       " DefiningParameters(temperature=Decimal('0.40'), tau=1, lam=Decimal('0.30')),\n",
       " DefiningParameters(temperature=Decimal('0.50'), tau=1, lam=Decimal('0.30')),\n",
       " DefiningParameters(temperature=Decimal('0.60'), tau=1, lam=Decimal('0.30')),\n",
       " DefiningParameters(temperature=Decimal('0.70'), tau=1, lam=Decimal('0.30')),\n",
       " DefiningParameters(temperature=Decimal('0.80'), tau=1, lam=Decimal('0.30')),\n",
       " DefiningParameters(temperature=Decimal('0.90'), tau=1, lam=Decimal('0.30')),\n",
       " DefiningParameters(temperature=Decimal('1.00'), tau=1, lam=Decimal('0.30')),\n",
       " DefiningParameters(temperature=Decimal('1.10'), tau=1, lam=Decimal('0.30')),\n",
       " DefiningParameters(temperature=Decimal('1.20'), tau=1, lam=Decimal('0.30')),\n",
       " DefiningParameters(temperature=Decimal('1.30'), tau=1, lam=Decimal('0.30')),\n",
       " DefiningParameters(temperature=Decimal('1.40'), tau=1, lam=Decimal('0.30')),\n",
       " DefiningParameters(temperature=Decimal('1.50'), tau=1, lam=Decimal('0.30')),\n",
       " DefiningParameters(temperature=Decimal('1.60'), tau=1, lam=Decimal('0.30'))]"
      ]
     },
     "execution_count": 5,
     "metadata": {},
     "output_type": "execute_result"
    }
   ],
   "source": [
    "[state.parameters for state in states]"
   ]
  },
  {
   "cell_type": "markdown",
   "id": "4927c3bb",
   "metadata": {},
   "source": [
    "## Thermalization"
   ]
  },
  {
   "cell_type": "code",
   "execution_count": 6,
   "id": "dabc66f8",
   "metadata": {},
   "outputs": [
    {
     "data": {
      "application/vnd.jupyter.widget-view+json": {
       "model_id": "bdef5f29017f48fb807afc1f630da511",
       "version_major": 2,
       "version_minor": 0
      },
      "text/plain": [
       "Overall Progress:   0%|          | 0/28000 [00:00<?, ?steps/s]"
      ]
     },
     "metadata": {},
     "output_type": "display_data"
    },
    {
     "data": {
      "application/vnd.jupyter.widget-view+json": {
       "model_id": "c8a23418dadc4b95b82cfacb8a15fa3d",
       "version_major": 2,
       "version_minor": 0
      },
      "text/plain": [
       "Sim 0 (T=0.300):   0%|          | 0/2000 [00:00<?, ?steps/s]"
      ]
     },
     "metadata": {},
     "output_type": "display_data"
    },
    {
     "data": {
      "application/vnd.jupyter.widget-view+json": {
       "model_id": "c53500a37c594dd3ae8d35ce772febeb",
       "version_major": 2,
       "version_minor": 0
      },
      "text/plain": [
       "Sim 1 (T=0.400):   0%|          | 0/2000 [00:00<?, ?steps/s]"
      ]
     },
     "metadata": {},
     "output_type": "display_data"
    },
    {
     "data": {
      "application/vnd.jupyter.widget-view+json": {
       "model_id": "25acce21e3174c7ab5a1984a6539d1e7",
       "version_major": 2,
       "version_minor": 0
      },
      "text/plain": [
       "Sim 2 (T=0.500):   0%|          | 0/2000 [00:00<?, ?steps/s]"
      ]
     },
     "metadata": {},
     "output_type": "display_data"
    },
    {
     "data": {
      "application/vnd.jupyter.widget-view+json": {
       "model_id": "bcce6402db424110be319b938562be7c",
       "version_major": 2,
       "version_minor": 0
      },
      "text/plain": [
       "Sim 3 (T=0.600):   0%|          | 0/2000 [00:00<?, ?steps/s]"
      ]
     },
     "metadata": {},
     "output_type": "display_data"
    },
    {
     "data": {
      "application/vnd.jupyter.widget-view+json": {
       "model_id": "3619af22bd75417d93c2fa8fdeebd13f",
       "version_major": 2,
       "version_minor": 0
      },
      "text/plain": [
       "Sim 4 (T=0.700):   0%|          | 0/2000 [00:00<?, ?steps/s]"
      ]
     },
     "metadata": {},
     "output_type": "display_data"
    },
    {
     "data": {
      "application/vnd.jupyter.widget-view+json": {
       "model_id": "ff1f1c6463c7490599c86b6890e7debc",
       "version_major": 2,
       "version_minor": 0
      },
      "text/plain": [
       "Sim 5 (T=0.800):   0%|          | 0/2000 [00:00<?, ?steps/s]"
      ]
     },
     "metadata": {},
     "output_type": "display_data"
    },
    {
     "data": {
      "application/vnd.jupyter.widget-view+json": {
       "model_id": "232b271e7fee4ea28e6eb8298f79320e",
       "version_major": 2,
       "version_minor": 0
      },
      "text/plain": [
       "Sim 6 (T=0.900):   0%|          | 0/2000 [00:00<?, ?steps/s]"
      ]
     },
     "metadata": {},
     "output_type": "display_data"
    },
    {
     "data": {
      "application/vnd.jupyter.widget-view+json": {
       "model_id": "0b6e5cea5aa4445d97201dc303beadb5",
       "version_major": 2,
       "version_minor": 0
      },
      "text/plain": [
       "Sim 7 (T=1.000):   0%|          | 0/2000 [00:00<?, ?steps/s]"
      ]
     },
     "metadata": {},
     "output_type": "display_data"
    },
    {
     "data": {
      "application/vnd.jupyter.widget-view+json": {
       "model_id": "d1968871e35c4d3182015d132072cbf5",
       "version_major": 2,
       "version_minor": 0
      },
      "text/plain": [
       "Sim 8 (T=1.100):   0%|          | 0/2000 [00:00<?, ?steps/s]"
      ]
     },
     "metadata": {},
     "output_type": "display_data"
    },
    {
     "data": {
      "application/vnd.jupyter.widget-view+json": {
       "model_id": "71478de9a89d4fee81b681e2eaa1bad3",
       "version_major": 2,
       "version_minor": 0
      },
      "text/plain": [
       "Sim 9 (T=1.200):   0%|          | 0/2000 [00:00<?, ?steps/s]"
      ]
     },
     "metadata": {},
     "output_type": "display_data"
    },
    {
     "data": {
      "application/vnd.jupyter.widget-view+json": {
       "model_id": "362c815318fb48beb2e53c3c51f35b6c",
       "version_major": 2,
       "version_minor": 0
      },
      "text/plain": [
       "Sim 10 (T=1.300):   0%|          | 0/2000 [00:00<?, ?steps/s]"
      ]
     },
     "metadata": {},
     "output_type": "display_data"
    },
    {
     "data": {
      "application/vnd.jupyter.widget-view+json": {
       "model_id": "b4311af66d7d4157b29f6ad663492859",
       "version_major": 2,
       "version_minor": 0
      },
      "text/plain": [
       "Sim 11 (T=1.400):   0%|          | 0/2000 [00:00<?, ?steps/s]"
      ]
     },
     "metadata": {},
     "output_type": "display_data"
    },
    {
     "data": {
      "application/vnd.jupyter.widget-view+json": {
       "model_id": "edeb99e9653f41348bd23363dcd55319",
       "version_major": 2,
       "version_minor": 0
      },
      "text/plain": [
       "Sim 12 (T=1.500):   0%|          | 0/2000 [00:00<?, ?steps/s]"
      ]
     },
     "metadata": {},
     "output_type": "display_data"
    },
    {
     "data": {
      "application/vnd.jupyter.widget-view+json": {
       "model_id": "4279921c4c88499c86190a515d0a172d",
       "version_major": 2,
       "version_minor": 0
      },
      "text/plain": [
       "Sim 13 (T=1.600):   0%|          | 0/2000 [00:00<?, ?steps/s]"
      ]
     },
     "metadata": {},
     "output_type": "display_data"
    }
   ],
   "source": [
    "# Setup simulation runner for thermalization\n",
    "order_parameters_history_thermalization = {state.parameters: OrderParametersHistory(state.lattice.size) for state in states}\n",
    "runner_thermalization = SimulationRunner(initial_states=states,\n",
    "                          order_parameters_history=order_parameters_history_thermalization,\n",
    "                          cycles=2000,\n",
    "                          per_state_updaters=per_state_updaters,\n",
    "                          progress_bar_mode=ProgressBarMode.NOTEBOOK,\n",
    "                          report_order_parameters_every=500,\n",
    "                          report_state_every=500,\n",
    "                          parallel_tempering_interval=10,  # More frequent PT swaps during thermalization\n",
    "                          save_interval=500,\n",
    "                          working_folder='./simulation_demo/thermalization',\n",
    "                          plot_recent_points=500,\n",
    "                          auto_recover=True)\n",
    "runner_thermalization.start()\n"
   ]
  },
  {
   "cell_type": "code",
   "execution_count": 8,
   "id": "59200bf2",
   "metadata": {},
   "outputs": [
    {
     "name": "stdout",
     "output_type": "stream",
     "text": [
      "All simulation processes finished gracefully\n"
     ]
    },
    {
     "data": {
      "text/plain": [
       "True"
      ]
     },
     "execution_count": 8,
     "metadata": {},
     "output_type": "execute_result"
    }
   ],
   "source": [
    "\n",
    "runner_thermalization.finished_gracefully()"
   ]
  },
  {
   "cell_type": "code",
   "execution_count": 7,
   "id": "64279611",
   "metadata": {},
   "outputs": [],
   "source": [
    "runner_thermalization.stop()"
   ]
  },
  {
   "cell_type": "markdown",
   "id": "af40cfdf",
   "metadata": {},
   "source": [
    "## Configure main simulation"
   ]
  },
  {
   "cell_type": "code",
   "execution_count": null,
   "id": "c45233db",
   "metadata": {},
   "outputs": [],
   "source": [
    "# Setup updaters\n",
    "per_state_updaters = [\n",
    "    AcceptanceRateWiggleRateAdjustor(how_often=20, since_when=20),\n",
    "]\n",
    "\n",
    "runner = SimulationRunner(states,\n",
    "                         order_parameters_history,\n",
    "                         cycles=5000,\n",
    "                         report_order_parameters_every=50,\n",
    "                         report_state_every=50,\n",
    "                         per_state_updaters=per_state_updaters,\n",
    "                         parallel_tempering_interval=50,\n",
    "                         save_interval=100,\n",
    "                         plot_recent_points=1000,\n",
    "                         working_folder='./simulation_demo',  # TensorBoard logs go to ./simulation_demo/tensorboard\n",
    "                         progress_bar_mode=ProgressBarMode.NOTEBOOK)"
   ]
  },
  {
   "cell_type": "markdown",
   "id": "2ef2cba9",
   "metadata": {},
   "source": [
    "## Progress Bars\n",
    "\n",
    "The simulation now includes progress bars to track the simulation progress:\n",
    "- **Main progress bar**: Shows overall simulation progress across all temperatures\n",
    "- **Per-simulation progress bars**: Individual progress for each temperature simulation\n",
    "\n",
    "These progress bars work seamlessly with TensorBoard logging and provide real-time feedback on simulation status."
   ]
  },
  {
   "cell_type": "code",
   "execution_count": null,
   "id": "cadd86cb",
   "metadata": {},
   "outputs": [
    {
     "data": {
      "application/vnd.jupyter.widget-view+json": {
       "model_id": "ed39ba59ea2b4bb3ba50097c1f614d3b",
       "version_major": 2,
       "version_minor": 0
      },
      "text/plain": [
       "Overall Progress:   0%|          | 0/70000 [00:00<?, ?steps/s]"
      ]
     },
     "metadata": {},
     "output_type": "display_data"
    },
    {
     "data": {
      "application/vnd.jupyter.widget-view+json": {
       "model_id": "a348997b9bd84cf086b03d4cceeb9c99",
       "version_major": 2,
       "version_minor": 0
      },
      "text/plain": [
       "Sim 0 (T=0.300):   0%|          | 0/5000 [00:00<?, ?steps/s]"
      ]
     },
     "metadata": {},
     "output_type": "display_data"
    },
    {
     "data": {
      "application/vnd.jupyter.widget-view+json": {
       "model_id": "94a85cc6b5f74b9fa96e13ebd56378f4",
       "version_major": 2,
       "version_minor": 0
      },
      "text/plain": [
       "Sim 1 (T=0.400):   0%|          | 0/5000 [00:00<?, ?steps/s]"
      ]
     },
     "metadata": {},
     "output_type": "display_data"
    },
    {
     "data": {
      "application/vnd.jupyter.widget-view+json": {
       "model_id": "fd3e1d60976c4b57a38d186f338aa9e4",
       "version_major": 2,
       "version_minor": 0
      },
      "text/plain": [
       "Sim 2 (T=0.500):   0%|          | 0/5000 [00:00<?, ?steps/s]"
      ]
     },
     "metadata": {},
     "output_type": "display_data"
    },
    {
     "data": {
      "application/vnd.jupyter.widget-view+json": {
       "model_id": "3bfbd1580fad4ee3a237e563e346192c",
       "version_major": 2,
       "version_minor": 0
      },
      "text/plain": [
       "Sim 3 (T=0.600):   0%|          | 0/5000 [00:00<?, ?steps/s]"
      ]
     },
     "metadata": {},
     "output_type": "display_data"
    },
    {
     "data": {
      "application/vnd.jupyter.widget-view+json": {
       "model_id": "6296603d1f6249908b4c35845fb3ce6d",
       "version_major": 2,
       "version_minor": 0
      },
      "text/plain": [
       "Sim 4 (T=0.700):   0%|          | 0/5000 [00:00<?, ?steps/s]"
      ]
     },
     "metadata": {},
     "output_type": "display_data"
    },
    {
     "data": {
      "application/vnd.jupyter.widget-view+json": {
       "model_id": "acf9c4074a7042ee93a6c09d0270e8e2",
       "version_major": 2,
       "version_minor": 0
      },
      "text/plain": [
       "Sim 5 (T=0.800):   0%|          | 0/5000 [00:00<?, ?steps/s]"
      ]
     },
     "metadata": {},
     "output_type": "display_data"
    },
    {
     "data": {
      "application/vnd.jupyter.widget-view+json": {
       "model_id": "d541193c620e49c4aa56ba43fd791ecc",
       "version_major": 2,
       "version_minor": 0
      },
      "text/plain": [
       "Sim 6 (T=0.900):   0%|          | 0/5000 [00:00<?, ?steps/s]"
      ]
     },
     "metadata": {},
     "output_type": "display_data"
    },
    {
     "data": {
      "application/vnd.jupyter.widget-view+json": {
       "model_id": "ec9e15eef61a49f094dc46ca4cd4b9cf",
       "version_major": 2,
       "version_minor": 0
      },
      "text/plain": [
       "Sim 7 (T=1.000):   0%|          | 0/5000 [00:00<?, ?steps/s]"
      ]
     },
     "metadata": {},
     "output_type": "display_data"
    },
    {
     "data": {
      "application/vnd.jupyter.widget-view+json": {
       "model_id": "761b6fa7cc4d4b14bb14b4ca12cc635e",
       "version_major": 2,
       "version_minor": 0
      },
      "text/plain": [
       "Sim 8 (T=1.100):   0%|          | 0/5000 [00:00<?, ?steps/s]"
      ]
     },
     "metadata": {},
     "output_type": "display_data"
    },
    {
     "data": {
      "application/vnd.jupyter.widget-view+json": {
       "model_id": "f55dd5440316451c85581897248063c4",
       "version_major": 2,
       "version_minor": 0
      },
      "text/plain": [
       "Sim 9 (T=1.200):   0%|          | 0/5000 [00:00<?, ?steps/s]"
      ]
     },
     "metadata": {},
     "output_type": "display_data"
    },
    {
     "data": {
      "application/vnd.jupyter.widget-view+json": {
       "model_id": "ca13c52b7e804f1988ef0174944076af",
       "version_major": 2,
       "version_minor": 0
      },
      "text/plain": [
       "Sim 10 (T=1.300):   0%|          | 0/5000 [00:00<?, ?steps/s]"
      ]
     },
     "metadata": {},
     "output_type": "display_data"
    },
    {
     "data": {
      "application/vnd.jupyter.widget-view+json": {
       "model_id": "0da66abaef1a4afb88035f84438e1421",
       "version_major": 2,
       "version_minor": 0
      },
      "text/plain": [
       "Sim 11 (T=1.400):   0%|          | 0/5000 [00:00<?, ?steps/s]"
      ]
     },
     "metadata": {},
     "output_type": "display_data"
    },
    {
     "data": {
      "application/vnd.jupyter.widget-view+json": {
       "model_id": "253c650535e949e6a7c4273b17f657c2",
       "version_major": 2,
       "version_minor": 0
      },
      "text/plain": [
       "Sim 12 (T=1.500):   0%|          | 0/5000 [00:00<?, ?steps/s]"
      ]
     },
     "metadata": {},
     "output_type": "display_data"
    },
    {
     "data": {
      "application/vnd.jupyter.widget-view+json": {
       "model_id": "c6a20ea122bf4cd7a2ad2946e53dbaa6",
       "version_major": 2,
       "version_minor": 0
      },
      "text/plain": [
       "Sim 13 (T=1.600):   0%|          | 0/5000 [00:00<?, ?steps/s]"
      ]
     },
     "metadata": {},
     "output_type": "display_data"
    },
    {
     "name": "stdout",
     "output_type": "stream",
     "text": [
      "All simulation processes finished gracefully\n"
     ]
    }
   ],
   "source": [
    "# Start the simulation\n",
    "runner.start()"
   ]
  },
  {
   "cell_type": "markdown",
   "id": "5c2ba43c",
   "metadata": {},
   "source": [
    "## Launch TensorBoard\n",
    "\n",
    "While the simulation is running, you can launch TensorBoard in a new terminal to visualize the progress:\n",
    "\n",
    "```bash\n",
    "tensorboard --logdir=./tensorboard_demo/tensorboard\n",
    "```\n",
    "\n",
    "This will start a local server, typically at http://localhost:6006, where you can view the visualizations.\n",
    "\n",
    "### What you'll see in TensorBoard:\n",
    "\n",
    "1. **Order Parameters**: Real-time plots of energy, q0, q2, w, p, d322 for each temperature\n",
    "2. **Acceptance Rates**: Live monitoring of orientation and parity move acceptance rates\n",
    "3. **Lattice Energy**: Energy values from lattice averages updated as states are received\n",
    "\n",
    "**Note**: Fluctuation analysis can be performed post-simulation using the saved CSV data, which includes both averages and fluctuations calculated from the complete order parameter history."
   ]
  },
  {
   "cell_type": "code",
   "execution_count": null,
   "id": "cd40cf56",
   "metadata": {},
   "outputs": [],
   "source": [
    "# If you want to stop the simulation early\n",
    "runner.stop()"
   ]
  },
  {
   "cell_type": "code",
   "execution_count": null,
   "id": "61c63119",
   "metadata": {},
   "outputs": [],
   "source": [
    "# Check if the simulation is still running\n",
    "runner.alive()"
   ]
  },
  {
   "cell_type": "code",
   "execution_count": 12,
   "id": "2c7d61e9",
   "metadata": {},
   "outputs": [
    {
     "name": "stdout",
     "output_type": "stream",
     "text": [
      "All simulation processes finished gracefully\n"
     ]
    },
    {
     "data": {
      "text/plain": [
       "True"
      ]
     },
     "execution_count": 12,
     "metadata": {},
     "output_type": "execute_result"
    }
   ],
   "source": [
    "# When done, check if it finished properly\n",
    "runner.finished_gracefully()"
   ]
  },
  {
   "cell_type": "markdown",
   "id": "f822cf02",
   "metadata": {},
   "source": [
    "# Analyzing Results with Pandas\n",
    "\n",
    "After the simulation completes, you can analyze the comprehensive data that was saved in CSV and XZ formats. The simulation creates several types of data files for analysis."
   ]
  },
  {
   "cell_type": "code",
   "execution_count": null,
   "id": "425aa3ad",
   "metadata": {},
   "outputs": [
    {
     "data": {
      "application/vnd.microsoft.datawrangler.viewer.v0+json": {
       "columns": [
        {
         "name": "index",
         "rawType": "int64",
         "type": "integer"
        },
        {
         "name": "parameters_temperature",
         "rawType": "float64",
         "type": "float"
        },
        {
         "name": "parameters_lam",
         "rawType": "float64",
         "type": "float"
        },
        {
         "name": "parameters_tau",
         "rawType": "float64",
         "type": "float"
        },
        {
         "name": "lattice_X",
         "rawType": "int64",
         "type": "integer"
        },
        {
         "name": "lattice_Y",
         "rawType": "int64",
         "type": "integer"
        },
        {
         "name": "lattice_Z",
         "rawType": "int64",
         "type": "integer"
        },
        {
         "name": "avg_energy",
         "rawType": "float64",
         "type": "float"
        },
        {
         "name": "avg_q0",
         "rawType": "float64",
         "type": "float"
        },
        {
         "name": "avg_q2",
         "rawType": "float64",
         "type": "float"
        },
        {
         "name": "avg_w",
         "rawType": "float64",
         "type": "float"
        },
        {
         "name": "avg_p",
         "rawType": "float64",
         "type": "float"
        },
        {
         "name": "avg_d322",
         "rawType": "float64",
         "type": "float"
        },
        {
         "name": "fl_energy",
         "rawType": "float64",
         "type": "float"
        },
        {
         "name": "fl_q0",
         "rawType": "float64",
         "type": "float"
        },
        {
         "name": "fl_q2",
         "rawType": "float64",
         "type": "float"
        },
        {
         "name": "fl_w",
         "rawType": "float64",
         "type": "float"
        },
        {
         "name": "fl_p",
         "rawType": "float64",
         "type": "float"
        },
        {
         "name": "fl_d322",
         "rawType": "float64",
         "type": "float"
        }
       ],
       "ref": "914a2c4f-026d-4e30-acc3-9afb2d9fa507",
       "rows": [
        [
         "0",
         "0.3",
         "0.3",
         "1.0",
         "10",
         "10",
         "10",
         "-5.925828456878662",
         "0.971716046333313",
         "0.34589534997940063",
         "0.5183001756668091",
         "0.8400000929832458",
         "0.9316038489341736",
         "1.583114504814148",
         "0.0034823324531316757",
         "0.001255379756912589",
         "0.005235066171735525",
         "0.0027221478521823883",
         "0.016271036118268967"
        ],
        [
         "1",
         "0.4",
         "0.3",
         "1.0",
         "10",
         "10",
         "10",
         "-5.733731746673584",
         "0.9612542986869812",
         "0.32484257221221924",
         "0.5589486956596375",
         "0.792699933052063",
         "0.9086285829544067",
         "3.1564531326293945",
         "0.005732604302465916",
         "0.005419633351266384",
         "0.03367503359913826",
         "0.010542354546487331",
         "0.02354980818927288"
        ],
        [
         "2",
         "0.5",
         "0.3",
         "1.0",
         "10",
         "10",
         "10",
         "-5.55100679397583",
         "0.9485937356948853",
         "0.327779084444046",
         "0.5418244004249573",
         "0.8048559427261353",
         "0.8818802237510681",
         "5.968554496765137",
         "0.016136161983013153",
         "0.052952032536268234",
         "0.2881801724433899",
         "0.3652442991733551",
         "0.05148140713572502"
        ],
        [
         "3",
         "0.6",
         "0.3",
         "1.0",
         "10",
         "10",
         "10",
         "-5.334841251373291",
         "0.9358785152435303",
         "0.31264209747314453",
         "0.5673354268074036",
         "0.773099958896637",
         "0.8533161878585815",
         "9.3837308883667",
         "0.02109406888484955",
         "0.1617693156003952",
         "0.8807656764984131",
         "1.1350185871124268",
         "0.08730357885360718"
        ],
        [
         "4",
         "0.7",
         "0.3",
         "1.0",
         "10",
         "10",
         "10",
         "-4.968564987182617",
         "0.9184685349464417",
         "0.2430497705936432",
         "0.7109135985374451",
         "0.5997399687767029",
         "0.8136720657348633",
         "18.261333465576172",
         "0.03840499743819237",
         "0.8029646873474121",
         "2.5330617427825928",
         "4.771130084991455",
         "0.1847458779811859"
        ],
        [
         "5",
         "0.8",
         "0.3",
         "1.0",
         "10",
         "10",
         "10",
         "-4.593593597412109",
         "0.8980748057365417",
         "0.14597436785697937",
         "0.8691904544830322",
         "0.3469240069389343",
         "0.7689006924629211",
         "30.367801666259766",
         "0.11162500083446503",
         "3.5187082290649414",
         "7.330697059631348",
         "21.32567024230957",
         "0.5354434847831726"
        ],
        [
         "6",
         "0.9",
         "0.3",
         "1.0",
         "10",
         "10",
         "10",
         "-4.196022987365723",
         "0.8677671551704407",
         "0.12228001654148102",
         "0.8955814242362976",
         "0.27069199085235596",
         "0.7073006629943848",
         "65.09236145019531",
         "0.3220573961734772",
         "3.3690478801727295",
         "6.094961643218994",
         "18.13882827758789",
         "1.9278382062911987"
        ],
        [
         "7",
         "1.0",
         "0.3",
         "1.0",
         "10",
         "10",
         "10",
         "-3.7775349617004395",
         "0.8311939835548401",
         "0.07670123130083084",
         "0.9561758041381836",
         "0.1547520011663437",
         "0.6441846489906311",
         "28.193904876708984",
         "0.20545849204063416",
         "0.975045382976532",
         "1.8957504034042358",
         "3.956381320953369",
         "1.0893951654434204"
        ],
        [
         "8",
         "1.1",
         "0.3",
         "1.0",
         "10",
         "10",
         "10",
         "-3.0842642784118652",
         "0.7354651093482971",
         "0.09553395956754684",
         "0.883344829082489",
         "0.12245599925518036",
         "0.51075279712677",
         "424.9028015136719",
         "15.016860008239746",
         "3.9153549671173096",
         "27.78601837158203",
         "7.202045440673828",
         "16.699647903442383"
        ],
        [
         "9",
         "1.2",
         "0.3",
         "1.0",
         "10",
         "10",
         "10",
         "-2.1338109970092773",
         "0.5859498381614685",
         "0.07495534420013428",
         "0.8412168025970459",
         "0.05647199973464012",
         "0.3259173035621643",
         "404.7635803222656",
         "36.729618072509766",
         "3.650639295578003",
         "72.50727081298828",
         "1.8765110969543457",
         "17.73419189453125"
        ],
        [
         "10",
         "1.3",
         "0.3",
         "1.0",
         "10",
         "10",
         "10",
         "-1.571065902709961",
         "0.4671107828617096",
         "0.08052362501621246",
         "0.7431208491325378",
         "0.0390080027282238",
         "0.21763651072978973",
         "241.77088928222656",
         "38.27644348144531",
         "3.9707460403442383",
         "116.63011169433594",
         "1.0096418857574463",
         "10.075593948364258"
        ],
        [
         "11",
         "1.4",
         "0.3",
         "1.0",
         "10",
         "10",
         "10",
         "-1.1699007749557495",
         "0.3544246554374695",
         "0.0688098892569542",
         "0.652510404586792",
         "0.030055999755859375",
         "0.1491343080997467",
         "164.77914428710938",
         "42.767173767089844",
         "4.0571980476379395",
         "163.1072235107422",
         "0.5277906656265259",
         "5.6251139640808105"
        ],
        [
         "12",
         "1.5",
         "0.3",
         "1.0",
         "10",
         "10",
         "10",
         "-0.9191767573356628",
         "0.24023348093032837",
         "0.044818297028541565",
         "0.5232686400413513",
         "0.025891998782753944",
         "0.10862678289413452",
         "83.20999908447266",
         "54.230716705322266",
         "5.38550329208374",
         "242.9745330810547",
         "0.3802263140678406",
         "2.4104342460632324"
        ],
        [
         "13",
         "1.6",
         "0.3",
         "1.0",
         "10",
         "10",
         "10",
         "-0.7734492421150208",
         "0.19715362787246704",
         "0.04359107092022896",
         "0.4683675467967987",
         "0.026003999635577202",
         "0.08889947831630707",
         "50.785518646240234",
         "41.90452575683594",
         "4.407739162445068",
         "254.13507080078125",
         "0.4068416357040405",
         "1.4277106523513794"
        ]
       ],
       "shape": {
        "columns": 18,
        "rows": 14
       }
      },
      "text/html": [
       "<div>\n",
       "<style scoped>\n",
       "    .dataframe tbody tr th:only-of-type {\n",
       "        vertical-align: middle;\n",
       "    }\n",
       "\n",
       "    .dataframe tbody tr th {\n",
       "        vertical-align: top;\n",
       "    }\n",
       "\n",
       "    .dataframe thead th {\n",
       "        text-align: right;\n",
       "    }\n",
       "</style>\n",
       "<table border=\"1\" class=\"dataframe\">\n",
       "  <thead>\n",
       "    <tr style=\"text-align: right;\">\n",
       "      <th></th>\n",
       "      <th>parameters_temperature</th>\n",
       "      <th>parameters_lam</th>\n",
       "      <th>parameters_tau</th>\n",
       "      <th>lattice_X</th>\n",
       "      <th>lattice_Y</th>\n",
       "      <th>lattice_Z</th>\n",
       "      <th>avg_energy</th>\n",
       "      <th>avg_q0</th>\n",
       "      <th>avg_q2</th>\n",
       "      <th>avg_w</th>\n",
       "      <th>avg_p</th>\n",
       "      <th>avg_d322</th>\n",
       "      <th>fl_energy</th>\n",
       "      <th>fl_q0</th>\n",
       "      <th>fl_q2</th>\n",
       "      <th>fl_w</th>\n",
       "      <th>fl_p</th>\n",
       "      <th>fl_d322</th>\n",
       "    </tr>\n",
       "  </thead>\n",
       "  <tbody>\n",
       "    <tr>\n",
       "      <th>0</th>\n",
       "      <td>0.3</td>\n",
       "      <td>0.3</td>\n",
       "      <td>1.0</td>\n",
       "      <td>10</td>\n",
       "      <td>10</td>\n",
       "      <td>10</td>\n",
       "      <td>-5.925828</td>\n",
       "      <td>0.971716</td>\n",
       "      <td>0.345895</td>\n",
       "      <td>0.518300</td>\n",
       "      <td>0.840000</td>\n",
       "      <td>0.931604</td>\n",
       "      <td>1.583115</td>\n",
       "      <td>0.003482</td>\n",
       "      <td>0.001255</td>\n",
       "      <td>0.005235</td>\n",
       "      <td>0.002722</td>\n",
       "      <td>0.016271</td>\n",
       "    </tr>\n",
       "    <tr>\n",
       "      <th>1</th>\n",
       "      <td>0.4</td>\n",
       "      <td>0.3</td>\n",
       "      <td>1.0</td>\n",
       "      <td>10</td>\n",
       "      <td>10</td>\n",
       "      <td>10</td>\n",
       "      <td>-5.733732</td>\n",
       "      <td>0.961254</td>\n",
       "      <td>0.324843</td>\n",
       "      <td>0.558949</td>\n",
       "      <td>0.792700</td>\n",
       "      <td>0.908629</td>\n",
       "      <td>3.156453</td>\n",
       "      <td>0.005733</td>\n",
       "      <td>0.005420</td>\n",
       "      <td>0.033675</td>\n",
       "      <td>0.010542</td>\n",
       "      <td>0.023550</td>\n",
       "    </tr>\n",
       "    <tr>\n",
       "      <th>2</th>\n",
       "      <td>0.5</td>\n",
       "      <td>0.3</td>\n",
       "      <td>1.0</td>\n",
       "      <td>10</td>\n",
       "      <td>10</td>\n",
       "      <td>10</td>\n",
       "      <td>-5.551007</td>\n",
       "      <td>0.948594</td>\n",
       "      <td>0.327779</td>\n",
       "      <td>0.541824</td>\n",
       "      <td>0.804856</td>\n",
       "      <td>0.881880</td>\n",
       "      <td>5.968554</td>\n",
       "      <td>0.016136</td>\n",
       "      <td>0.052952</td>\n",
       "      <td>0.288180</td>\n",
       "      <td>0.365244</td>\n",
       "      <td>0.051481</td>\n",
       "    </tr>\n",
       "    <tr>\n",
       "      <th>3</th>\n",
       "      <td>0.6</td>\n",
       "      <td>0.3</td>\n",
       "      <td>1.0</td>\n",
       "      <td>10</td>\n",
       "      <td>10</td>\n",
       "      <td>10</td>\n",
       "      <td>-5.334841</td>\n",
       "      <td>0.935879</td>\n",
       "      <td>0.312642</td>\n",
       "      <td>0.567335</td>\n",
       "      <td>0.773100</td>\n",
       "      <td>0.853316</td>\n",
       "      <td>9.383731</td>\n",
       "      <td>0.021094</td>\n",
       "      <td>0.161769</td>\n",
       "      <td>0.880766</td>\n",
       "      <td>1.135019</td>\n",
       "      <td>0.087304</td>\n",
       "    </tr>\n",
       "    <tr>\n",
       "      <th>4</th>\n",
       "      <td>0.7</td>\n",
       "      <td>0.3</td>\n",
       "      <td>1.0</td>\n",
       "      <td>10</td>\n",
       "      <td>10</td>\n",
       "      <td>10</td>\n",
       "      <td>-4.968565</td>\n",
       "      <td>0.918469</td>\n",
       "      <td>0.243050</td>\n",
       "      <td>0.710914</td>\n",
       "      <td>0.599740</td>\n",
       "      <td>0.813672</td>\n",
       "      <td>18.261333</td>\n",
       "      <td>0.038405</td>\n",
       "      <td>0.802965</td>\n",
       "      <td>2.533062</td>\n",
       "      <td>4.771130</td>\n",
       "      <td>0.184746</td>\n",
       "    </tr>\n",
       "    <tr>\n",
       "      <th>5</th>\n",
       "      <td>0.8</td>\n",
       "      <td>0.3</td>\n",
       "      <td>1.0</td>\n",
       "      <td>10</td>\n",
       "      <td>10</td>\n",
       "      <td>10</td>\n",
       "      <td>-4.593594</td>\n",
       "      <td>0.898075</td>\n",
       "      <td>0.145974</td>\n",
       "      <td>0.869190</td>\n",
       "      <td>0.346924</td>\n",
       "      <td>0.768901</td>\n",
       "      <td>30.367802</td>\n",
       "      <td>0.111625</td>\n",
       "      <td>3.518708</td>\n",
       "      <td>7.330697</td>\n",
       "      <td>21.325670</td>\n",
       "      <td>0.535443</td>\n",
       "    </tr>\n",
       "    <tr>\n",
       "      <th>6</th>\n",
       "      <td>0.9</td>\n",
       "      <td>0.3</td>\n",
       "      <td>1.0</td>\n",
       "      <td>10</td>\n",
       "      <td>10</td>\n",
       "      <td>10</td>\n",
       "      <td>-4.196023</td>\n",
       "      <td>0.867767</td>\n",
       "      <td>0.122280</td>\n",
       "      <td>0.895581</td>\n",
       "      <td>0.270692</td>\n",
       "      <td>0.707301</td>\n",
       "      <td>65.092361</td>\n",
       "      <td>0.322057</td>\n",
       "      <td>3.369048</td>\n",
       "      <td>6.094962</td>\n",
       "      <td>18.138828</td>\n",
       "      <td>1.927838</td>\n",
       "    </tr>\n",
       "    <tr>\n",
       "      <th>7</th>\n",
       "      <td>1.0</td>\n",
       "      <td>0.3</td>\n",
       "      <td>1.0</td>\n",
       "      <td>10</td>\n",
       "      <td>10</td>\n",
       "      <td>10</td>\n",
       "      <td>-3.777535</td>\n",
       "      <td>0.831194</td>\n",
       "      <td>0.076701</td>\n",
       "      <td>0.956176</td>\n",
       "      <td>0.154752</td>\n",
       "      <td>0.644185</td>\n",
       "      <td>28.193905</td>\n",
       "      <td>0.205458</td>\n",
       "      <td>0.975045</td>\n",
       "      <td>1.895750</td>\n",
       "      <td>3.956381</td>\n",
       "      <td>1.089395</td>\n",
       "    </tr>\n",
       "    <tr>\n",
       "      <th>8</th>\n",
       "      <td>1.1</td>\n",
       "      <td>0.3</td>\n",
       "      <td>1.0</td>\n",
       "      <td>10</td>\n",
       "      <td>10</td>\n",
       "      <td>10</td>\n",
       "      <td>-3.084264</td>\n",
       "      <td>0.735465</td>\n",
       "      <td>0.095534</td>\n",
       "      <td>0.883345</td>\n",
       "      <td>0.122456</td>\n",
       "      <td>0.510753</td>\n",
       "      <td>424.902802</td>\n",
       "      <td>15.016860</td>\n",
       "      <td>3.915355</td>\n",
       "      <td>27.786018</td>\n",
       "      <td>7.202045</td>\n",
       "      <td>16.699648</td>\n",
       "    </tr>\n",
       "    <tr>\n",
       "      <th>9</th>\n",
       "      <td>1.2</td>\n",
       "      <td>0.3</td>\n",
       "      <td>1.0</td>\n",
       "      <td>10</td>\n",
       "      <td>10</td>\n",
       "      <td>10</td>\n",
       "      <td>-2.133811</td>\n",
       "      <td>0.585950</td>\n",
       "      <td>0.074955</td>\n",
       "      <td>0.841217</td>\n",
       "      <td>0.056472</td>\n",
       "      <td>0.325917</td>\n",
       "      <td>404.763580</td>\n",
       "      <td>36.729618</td>\n",
       "      <td>3.650639</td>\n",
       "      <td>72.507271</td>\n",
       "      <td>1.876511</td>\n",
       "      <td>17.734192</td>\n",
       "    </tr>\n",
       "    <tr>\n",
       "      <th>10</th>\n",
       "      <td>1.3</td>\n",
       "      <td>0.3</td>\n",
       "      <td>1.0</td>\n",
       "      <td>10</td>\n",
       "      <td>10</td>\n",
       "      <td>10</td>\n",
       "      <td>-1.571066</td>\n",
       "      <td>0.467111</td>\n",
       "      <td>0.080524</td>\n",
       "      <td>0.743121</td>\n",
       "      <td>0.039008</td>\n",
       "      <td>0.217637</td>\n",
       "      <td>241.770889</td>\n",
       "      <td>38.276443</td>\n",
       "      <td>3.970746</td>\n",
       "      <td>116.630112</td>\n",
       "      <td>1.009642</td>\n",
       "      <td>10.075594</td>\n",
       "    </tr>\n",
       "    <tr>\n",
       "      <th>11</th>\n",
       "      <td>1.4</td>\n",
       "      <td>0.3</td>\n",
       "      <td>1.0</td>\n",
       "      <td>10</td>\n",
       "      <td>10</td>\n",
       "      <td>10</td>\n",
       "      <td>-1.169901</td>\n",
       "      <td>0.354425</td>\n",
       "      <td>0.068810</td>\n",
       "      <td>0.652510</td>\n",
       "      <td>0.030056</td>\n",
       "      <td>0.149134</td>\n",
       "      <td>164.779144</td>\n",
       "      <td>42.767174</td>\n",
       "      <td>4.057198</td>\n",
       "      <td>163.107224</td>\n",
       "      <td>0.527791</td>\n",
       "      <td>5.625114</td>\n",
       "    </tr>\n",
       "    <tr>\n",
       "      <th>12</th>\n",
       "      <td>1.5</td>\n",
       "      <td>0.3</td>\n",
       "      <td>1.0</td>\n",
       "      <td>10</td>\n",
       "      <td>10</td>\n",
       "      <td>10</td>\n",
       "      <td>-0.919177</td>\n",
       "      <td>0.240233</td>\n",
       "      <td>0.044818</td>\n",
       "      <td>0.523269</td>\n",
       "      <td>0.025892</td>\n",
       "      <td>0.108627</td>\n",
       "      <td>83.209999</td>\n",
       "      <td>54.230717</td>\n",
       "      <td>5.385503</td>\n",
       "      <td>242.974533</td>\n",
       "      <td>0.380226</td>\n",
       "      <td>2.410434</td>\n",
       "    </tr>\n",
       "    <tr>\n",
       "      <th>13</th>\n",
       "      <td>1.6</td>\n",
       "      <td>0.3</td>\n",
       "      <td>1.0</td>\n",
       "      <td>10</td>\n",
       "      <td>10</td>\n",
       "      <td>10</td>\n",
       "      <td>-0.773449</td>\n",
       "      <td>0.197154</td>\n",
       "      <td>0.043591</td>\n",
       "      <td>0.468368</td>\n",
       "      <td>0.026004</td>\n",
       "      <td>0.088899</td>\n",
       "      <td>50.785519</td>\n",
       "      <td>41.904526</td>\n",
       "      <td>4.407739</td>\n",
       "      <td>254.135071</td>\n",
       "      <td>0.406842</td>\n",
       "      <td>1.427711</td>\n",
       "    </tr>\n",
       "  </tbody>\n",
       "</table>\n",
       "</div>"
      ],
      "text/plain": [
       "    parameters_temperature  parameters_lam  ...       fl_p    fl_d322\n",
       "0                      0.3             0.3  ...   0.002722   0.016271\n",
       "1                      0.4             0.3  ...   0.010542   0.023550\n",
       "2                      0.5             0.3  ...   0.365244   0.051481\n",
       "3                      0.6             0.3  ...   1.135019   0.087304\n",
       "4                      0.7             0.3  ...   4.771130   0.184746\n",
       "5                      0.8             0.3  ...  21.325670   0.535443\n",
       "6                      0.9             0.3  ...  18.138828   1.927838\n",
       "7                      1.0             0.3  ...   3.956381   1.089395\n",
       "8                      1.1             0.3  ...   7.202045  16.699648\n",
       "9                      1.2             0.3  ...   1.876511  17.734192\n",
       "10                     1.3             0.3  ...   1.009642  10.075594\n",
       "11                     1.4             0.3  ...   0.527791   5.625114\n",
       "12                     1.5             0.3  ...   0.380226   2.410434\n",
       "13                     1.6             0.3  ...   0.406842   1.427711\n",
       "\n",
       "[14 rows x 18 columns]"
      ]
     },
     "execution_count": 32,
     "metadata": {},
     "output_type": "execute_result"
    }
   ],
   "source": [
    "import pandas as pd\n",
    "import matplotlib.pyplot as plt\n",
    "import numpy as np\n",
    "from pathlib import Path\n",
    "\n",
    "# Load the final parameter summary data (contains decorrelated averages over full history)\n",
    "data_path = Path('./simulation_demo/data/')\n",
    "\n",
    "# Load the comprehensive parameter summary table\n",
    "# This contains one row per parameter set with all averaged quantities\n",
    "df_summary = pd.read_pickle(data_path / 'parameter_summary_final.xz')\n",
    "df_summary['parameters_temperature'] = df_summary['parameters_temperature'].apply(float)\n",
    "df_summary['parameters_lam'] = df_summary['parameters_lam'].apply(float)\n",
    "df_summary['parameters_tau'] = df_summary['parameters_tau'].apply(float)\n",
    "df_summary\n"
   ]
  },
  {
   "cell_type": "code",
   "execution_count": 20,
   "id": "9ecaae5a",
   "metadata": {},
   "outputs": [
    {
     "name": "stdout",
     "output_type": "stream",
     "text": [
      "Data shape: (14, 18)\n",
      "Temperature range: 0.30 - 1.60\n",
      "\n",
      "Available columns:\n",
      "['avg_energy', 'avg_q0', 'avg_q2', 'avg_w', 'avg_p', 'avg_d322', 'fl_energy', 'fl_q0', 'fl_q2', 'fl_w', 'fl_p', 'fl_d322']\n"
     ]
    }
   ],
   "source": [
    "# Display basic info about the data\n",
    "print(f\"Data shape: {df_summary.shape}\")\n",
    "print(f\"Temperature range: {df_summary['parameters_temperature'].min():.2f} - {df_summary['parameters_temperature'].max():.2f}\")\n",
    "print(\"\\nAvailable columns:\")\n",
    "print([col for col in df_summary.columns if col.startswith(('avg_', 'fl_'))])"
   ]
  },
  {
   "cell_type": "code",
   "execution_count": 23,
   "id": "7da08a87",
   "metadata": {},
   "outputs": [
    {
     "data": {
      "image/png": "[encoded data removed]",
      "text/plain": [
       "<Figure size 1500x1000 with 6 Axes>"
      ]
     },
     "metadata": {},
     "output_type": "display_data"
    }
   ],
   "source": [
    "%matplotlib inline\n",
    "# Create comprehensive temperature plots showing order parameters and energy fluctuations\n",
    "fig, axes = plt.subplots(2, 3, figsize=(15, 10))\n",
    "fig.suptitle('Temperature Dependence of Order Parameters and Energy Fluctuations', fontsize=16)\n",
    "\n",
    "# Sort data by temperature for smooth curves\n",
    "df_sorted = df_summary.sort_values('parameters_temperature')\n",
    "temps = df_sorted['parameters_temperature']\n",
    "\n",
    "# Plot order parameters: q0, q2, p, d322\n",
    "axes[0, 0].plot(temps, df_sorted['avg_q0'], 'bo-', label='q0', markersize=4)\n",
    "axes[0, 0].set_ylabel('Average q0')\n",
    "axes[0, 0].set_title('Orientational Order Parameter q0')\n",
    "axes[0, 0].grid(True, alpha=0.3)\n",
    "\n",
    "axes[0, 1].plot(temps, df_sorted['avg_q2'], 'ro-', label='q2', markersize=4)\n",
    "axes[0, 1].set_ylabel('Average q2')\n",
    "axes[0, 1].set_title('Orientational Order Parameter q2')\n",
    "axes[0, 1].grid(True, alpha=0.3)\n",
    "\n",
    "axes[0, 2].plot(temps, df_sorted['avg_p'], 'go-', label='p', markersize=4)\n",
    "axes[0, 2].set_ylabel('Average p')\n",
    "axes[0, 2].set_title('Parity Order Parameter p')\n",
    "axes[0, 2].grid(True, alpha=0.3)\n",
    "\n",
    "axes[1, 0].plot(temps, df_sorted['avg_d322'], 'mo-', label='d322', markersize=4)\n",
    "axes[1, 0].set_ylabel('Average d322')\n",
    "axes[1, 0].set_xlabel('Temperature')\n",
    "axes[1, 0].set_title('Asymmetric Order Parameter d322')\n",
    "axes[1, 0].grid(True, alpha=0.3)\n",
    "\n",
    "# Plot energy fluctuations (both measured during simulation and calculated from history)\n",
    "axes[1, 1].plot(temps, df_sorted['fl_energy'], 'co-', label='Measured', markersize=4)\n",
    "axes[1, 1].set_ylabel('Energy Fluctuations')\n",
    "axes[1, 1].set_xlabel('Temperature')\n",
    "axes[1, 1].set_title('Energy Fluctuations')\n",
    "axes[1, 1].legend()\n",
    "axes[1, 1].grid(True, alpha=0.3)\n",
    "\n",
    "# Heat capacity (proportional to energy fluctuations / T^2)\n",
    "heat_capacity = df_sorted['fl_energy'] / (df_sorted['parameters_temperature']**2)\n",
    "axes[1, 2].plot(temps, heat_capacity, 'rs-', label='C ∝ ⟨ΔE²⟩/T²', markersize=4)\n",
    "axes[1, 2].set_ylabel('Heat Capacity (rel. units)')\n",
    "axes[1, 2].set_xlabel('Temperature')\n",
    "axes[1, 2].set_title('Heat Capacity from Energy Fluctuations')\n",
    "axes[1, 2].grid(True, alpha=0.3)\n",
    "\n",
    "plt.tight_layout()"
   ]
  }
 ],
 "metadata": {
  "kernelspec": {
   "display_name": ".venv",
   "language": "python",
   "name": "python3"
  },
  "language_info": {
   "codemirror_mode": {
    "name": "ipython",
    "version": 3
   },
   "file_extension": ".py",
   "mimetype": "text/x-python",
   "name": "python",
   "nbconvert_exporter": "python",
   "pygments_lexer": "ipython3",
   "version": "3.12.10"
  }
 },
 "nbformat": 4,
 "nbformat_minor": 5
}

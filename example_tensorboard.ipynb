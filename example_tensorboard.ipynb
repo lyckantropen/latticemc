{
 "cells": [
  {
   "cell_type": "markdown",
   "id": "3b1391ed",
   "metadata": {},
   "source": [
    "# TensorBoard Integration with LatticeMC\n",
    "\n",
    "This notebook demonstrates how to use TensorBoard to visualize simulation progress with immediate logging."
   ]
  },
  {
   "cell_type": "code",
   "execution_count": 1,
   "id": "d3e45a82",
   "metadata": {},
   "outputs": [],
   "source": [
    "import numpy as np\n",
    "from decimal import Decimal"
   ]
  },
  {
   "cell_type": "code",
   "execution_count": 2,
   "id": "cfba640c",
   "metadata": {},
   "outputs": [],
   "source": [
    "from latticemc.definitions import Lattice, LatticeState, OrderParametersHistory, DefiningParameters\n",
    "from latticemc.lattice_tools import initialize_partially_ordered\n",
    "from latticemc.random_quaternion import random_quaternion\n",
    "from latticemc.updaters import AcceptanceRateWiggleRateAdjustor, RandomWiggleRateAdjustor\n",
    "from latticemc.parallel import SimulationRunner, ProgressBarMode"
   ]
  },
  {
   "cell_type": "markdown",
   "id": "5f4f6606",
   "metadata": {},
   "source": [
    "## Set up simulation with TensorBoard logging enabled\n",
    "\n",
    "We'll create a simulation with multiple temperatures and enable TensorBoard logging.\n",
    "With the new immediate logging approach, data is logged as soon as it's received from simulation processes."
   ]
  },
  {
   "cell_type": "code",
   "execution_count": 3,
   "id": "e6730a93",
   "metadata": {},
   "outputs": [],
   "source": [
    "# Setup simulation with multiple temperatures\n",
    "temperatures = np.arange(0.3, 1.7, 0.1)  # Fewer temps for faster demo\n",
    "states = [LatticeState(parameters=DefiningParameters(temperature=round(Decimal(t), 2), lam=Decimal(0.3), tau=1),\n",
    "                       lattice=Lattice(8, 8, 8))  # Smaller lattice for faster demo\n",
    "          for t in temperatures]\n",
    "for state in states:\n",
    "    initialize_partially_ordered(state.lattice, x=random_quaternion(1.0))\n",
    "\n",
    "order_parameters_history = {state.parameters: OrderParametersHistory() for state in states}"
   ]
  },
  {
   "cell_type": "code",
   "execution_count": 4,
   "id": "156cf5cb",
   "metadata": {},
   "outputs": [],
   "source": [
    "# Setup updaters\n",
    "per_state_updaters = [\n",
    "    AcceptanceRateWiggleRateAdjustor(how_often=100, since_when=100),\n",
    "    RandomWiggleRateAdjustor(scale=0.001, how_often=100, since_when=100),\n",
    "    RandomWiggleRateAdjustor(scale=1.0, reset_value=1.0, how_often=500, since_when=500)\n",
    "]\n",
    "\n",
    "# Create simulation runner with TensorBoard logging and progress bars enabled\n",
    "# TensorBoard logs will automatically be saved to working_folder/tensorboard\n",
    "runner = SimulationRunner(states,\n",
    "                         order_parameters_history,\n",
    "                         cycles=1000,\n",
    "                         report_order_parameters_every=50,\n",
    "                         report_state_every=50,\n",
    "                         per_state_updaters=per_state_updaters,\n",
    "                         parallel_tempering_interval=50,\n",
    "                         save_interval=100,\n",
    "                         plot_recent_points=1000,\n",
    "                         working_folder='./tensorboard_demo',  # TensorBoard logs go to ./tensorboard_demo/tensorboard\n",
    "                         progress_bar_mode=ProgressBarMode.NOTEBOOK)"
   ]
  },
  {
   "cell_type": "markdown",
   "id": "ffd8307b",
   "metadata": {},
   "source": [
    "## Start the simulation\n",
    "\n",
    "Run the simulation and TensorBoard logging will happen automatically as data is received:\n",
    "- Order parameters are logged immediately when received\n",
    "- Fluctuations are logged immediately when received  \n",
    "- Lattice states (including energy and acceptance rates) are logged when state updates are received"
   ]
  },
  {
   "cell_type": "markdown",
   "id": "2ef2cba9",
   "metadata": {},
   "source": [
    "## Progress Bars\n",
    "\n",
    "The simulation now includes progress bars to track the simulation progress:\n",
    "- **Main progress bar**: Shows overall simulation progress across all temperatures\n",
    "- **Per-simulation progress bars**: Individual progress for each temperature simulation\n",
    "\n",
    "These progress bars work seamlessly with TensorBoard logging and provide real-time feedback on simulation status."
   ]
  },
  {
   "cell_type": "code",
   "execution_count": null,
   "id": "cadd86cb",
   "metadata": {},
   "outputs": [
    {
     "data": {
      "application/vnd.jupyter.widget-view+json": {
       "model_id": "9b50f904581841269b6207efb8915ba5",
       "version_major": 2,
       "version_minor": 0
      },
      "text/plain": [
       "Overall Progress:   0%|          | 0/14000 [00:00<?, ?steps/s]"
      ]
     },
     "metadata": {},
     "output_type": "display_data"
    },
    {
     "data": {
      "application/vnd.jupyter.widget-view+json": {
       "model_id": "de83d1b18fd34ee99f8acff395eb18f9",
       "version_major": 2,
       "version_minor": 0
      },
      "text/plain": [
       "Sim 0 (T=0.300):   0%|          | 0/1000 [00:00<?, ?steps/s]"
      ]
     },
     "metadata": {},
     "output_type": "display_data"
    },
    {
     "data": {
      "application/vnd.jupyter.widget-view+json": {
       "model_id": "b0575129c1494d80b83427a160719a54",
       "version_major": 2,
       "version_minor": 0
      },
      "text/plain": [
       "Sim 1 (T=0.400):   0%|          | 0/1000 [00:00<?, ?steps/s]"
      ]
     },
     "metadata": {},
     "output_type": "display_data"
    },
    {
     "data": {
      "application/vnd.jupyter.widget-view+json": {
       "model_id": "75c6e851e407495991b1f1f28bc4308c",
       "version_major": 2,
       "version_minor": 0
      },
      "text/plain": [
       "Sim 2 (T=0.500):   0%|          | 0/1000 [00:00<?, ?steps/s]"
      ]
     },
     "metadata": {},
     "output_type": "display_data"
    },
    {
     "data": {
      "application/vnd.jupyter.widget-view+json": {
       "model_id": "48f50a8803414617bb70bd53a284a112",
       "version_major": 2,
       "version_minor": 0
      },
      "text/plain": [
       "Sim 3 (T=0.600):   0%|          | 0/1000 [00:00<?, ?steps/s]"
      ]
     },
     "metadata": {},
     "output_type": "display_data"
    },
    {
     "data": {
      "application/vnd.jupyter.widget-view+json": {
       "model_id": "229e10387cdd42ac8d09ecf418b7eb5f",
       "version_major": 2,
       "version_minor": 0
      },
      "text/plain": [
       "Sim 4 (T=0.700):   0%|          | 0/1000 [00:00<?, ?steps/s]"
      ]
     },
     "metadata": {},
     "output_type": "display_data"
    },
    {
     "data": {
      "application/vnd.jupyter.widget-view+json": {
       "model_id": "1e35f6caad7d4f3693afa1a59511bf50",
       "version_major": 2,
       "version_minor": 0
      },
      "text/plain": [
       "Sim 5 (T=0.800):   0%|          | 0/1000 [00:00<?, ?steps/s]"
      ]
     },
     "metadata": {},
     "output_type": "display_data"
    },
    {
     "data": {
      "application/vnd.jupyter.widget-view+json": {
       "model_id": "d8a6a99280f844e7a9c28c602c9c1421",
       "version_major": 2,
       "version_minor": 0
      },
      "text/plain": [
       "Sim 6 (T=0.900):   0%|          | 0/1000 [00:00<?, ?steps/s]"
      ]
     },
     "metadata": {},
     "output_type": "display_data"
    },
    {
     "data": {
      "application/vnd.jupyter.widget-view+json": {
       "model_id": "ed6a57b2f5e94130bde9d5c9d3e1a3f5",
       "version_major": 2,
       "version_minor": 0
      },
      "text/plain": [
       "Sim 7 (T=1.000):   0%|          | 0/1000 [00:00<?, ?steps/s]"
      ]
     },
     "metadata": {},
     "output_type": "display_data"
    },
    {
     "data": {
      "application/vnd.jupyter.widget-view+json": {
       "model_id": "926c1e118754460ba0b69b5c0207356d",
       "version_major": 2,
       "version_minor": 0
      },
      "text/plain": [
       "Sim 8 (T=1.100):   0%|          | 0/1000 [00:00<?, ?steps/s]"
      ]
     },
     "metadata": {},
     "output_type": "display_data"
    },
    {
     "data": {
      "application/vnd.jupyter.widget-view+json": {
       "model_id": "ca70c830074b4c5ab609dad6463fdcd4",
       "version_major": 2,
       "version_minor": 0
      },
      "text/plain": [
       "Sim 9 (T=1.200):   0%|          | 0/1000 [00:00<?, ?steps/s]"
      ]
     },
     "metadata": {},
     "output_type": "display_data"
    },
    {
     "data": {
      "application/vnd.jupyter.widget-view+json": {
       "model_id": "c46cbc4066194b198eff9e88a1fad6d8",
       "version_major": 2,
       "version_minor": 0
      },
      "text/plain": [
       "Sim 10 (T=1.300):   0%|          | 0/1000 [00:00<?, ?steps/s]"
      ]
     },
     "metadata": {},
     "output_type": "display_data"
    },
    {
     "data": {
      "application/vnd.jupyter.widget-view+json": {
       "model_id": "fae8b675bac343a59352fc2cee061040",
       "version_major": 2,
       "version_minor": 0
      },
      "text/plain": [
       "Sim 11 (T=1.400):   0%|          | 0/1000 [00:00<?, ?steps/s]"
      ]
     },
     "metadata": {},
     "output_type": "display_data"
    },
    {
     "data": {
      "application/vnd.jupyter.widget-view+json": {
       "model_id": "b3222dfb3cc6451c917632a671abc6a7",
       "version_major": 2,
       "version_minor": 0
      },
      "text/plain": [
       "Sim 12 (T=1.500):   0%|          | 0/1000 [00:00<?, ?steps/s]"
      ]
     },
     "metadata": {},
     "output_type": "display_data"
    },
    {
     "data": {
      "application/vnd.jupyter.widget-view+json": {
       "model_id": "e9795e509a1045dab4be67e458aed128",
       "version_major": 2,
       "version_minor": 0
      },
      "text/plain": [
       "Sim 13 (T=1.600):   0%|          | 0/1000 [00:00<?, ?steps/s]"
      ]
     },
     "metadata": {},
     "output_type": "display_data"
    },
    {
     "name": "stdout",
     "output_type": "stream",
     "text": [
      "All simulation processes finished gracefully\n"
     ]
    }
   ],
   "source": [
    "# Start the simulation\n",
    "runner.start()"
   ]
  },
  {
   "cell_type": "markdown",
   "id": "5c2ba43c",
   "metadata": {},
   "source": [
    "## Launch TensorBoard\n",
    "\n",
    "While the simulation is running, you can launch TensorBoard in a new terminal to visualize the progress:\n",
    "\n",
    "```bash\n",
    "tensorboard --logdir=./tensorboard_demo/tensorboard\n",
    "```\n",
    "\n",
    "This will start a local server, typically at http://localhost:6006, where you can view the visualizations.\n",
    "\n",
    "### What you'll see in TensorBoard:\n",
    "\n",
    "1. **Order Parameters**: Real-time plots of energy, q0, q2, w, p, d322 for each temperature\n",
    "2. **Fluctuations**: Real-time fluctuation measurements for each order parameter\n",
    "3. **Acceptance Rates**: Live monitoring of orientation and parity move acceptance rates\n",
    "4. **Lattice Energy**: Energy values from lattice averages updated as states are received"
   ]
  },
  {
   "cell_type": "code",
   "execution_count": null,
   "id": "cd40cf56",
   "metadata": {},
   "outputs": [],
   "source": [
    "# If you want to stop the simulation early\n",
    "# runner.stop()"
   ]
  },
  {
   "cell_type": "code",
   "execution_count": null,
   "id": "61c63119",
   "metadata": {},
   "outputs": [],
   "source": [
    "# Check if the simulation is still running\n",
    "runner.alive()"
   ]
  },
  {
   "cell_type": "code",
   "execution_count": 6,
   "id": "2c7d61e9",
   "metadata": {},
   "outputs": [
    {
     "name": "stdout",
     "output_type": "stream",
     "text": [
      "All simulation processes finished gracefully\n"
     ]
    },
    {
     "data": {
      "text/plain": [
       "True"
      ]
     },
     "execution_count": 6,
     "metadata": {},
     "output_type": "execute_result"
    }
   ],
   "source": [
    "# When done, check if it finished properly\n",
    "runner.finished_gracefully()"
   ]
  },
  {
   "cell_type": "markdown",
   "id": "b4bc6380",
   "metadata": {},
   "source": [
    "## Benefits of Immediate Logging\n",
    "\n",
    "The new immediate logging approach provides several advantages:\n",
    "\n",
    "1. **Real-time monitoring**: See data as soon as it's computed\n",
    "2. **Lower memory usage**: No need to batch data before logging\n",
    "3. **Better responsiveness**: TensorBoard updates continuously during simulation\n",
    "4. **Specific data logging**: Only log what's actually received/computed\n",
    "5. **Failure resilience**: Data is logged even if simulation crashes partway through"
   ]
  }
 ],
 "metadata": {
  "kernelspec": {
   "display_name": ".venv",
   "language": "python",
   "name": "python3"
  },
  "language_info": {
   "codemirror_mode": {
    "name": "ipython",
    "version": 3
   },
   "file_extension": ".py",
   "mimetype": "text/x-python",
   "name": "python",
   "nbconvert_exporter": "python",
   "pygments_lexer": "ipython3",
   "version": "3.12.10"
  }
 },
 "nbformat": 4,
 "nbformat_minor": 5
}

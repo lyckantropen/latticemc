{
 "cells": [
  {
   "cell_type": "markdown",
   "id": "3b1391ed",
   "metadata": {},
   "source": [
    "# TensorBoard Integration with LatticeMC\n",
    "\n",
    "This notebook demonstrates how to use TensorBoard to visualize simulation progress with immediate logging."
   ]
  },
  {
   "cell_type": "code",
   "execution_count": 1,
   "id": "f7107c12",
   "metadata": {},
   "outputs": [],
   "source": [
    "import logging\n",
    "import sys\n",
    "\n",
    "root = logging.getLogger()\n",
    "root.setLevel(logging.DEBUG)\n",
    "# create console handler\n",
    "ch = logging.StreamHandler(sys.stdout)\n",
    "ch.setLevel(logging.WARNING)\n",
    "# create formatter\n",
    "formatter = logging.Formatter('%(asctime)s - %(name)s - %(levelname)s - %(message)s')\n",
    "# add formatter to console handler\n",
    "ch.setFormatter(formatter)\n",
    "# add console handler to root logger\n",
    "root.addHandler(ch)"
   ]
  },
  {
   "cell_type": "code",
   "execution_count": 2,
   "id": "d3e45a82",
   "metadata": {},
   "outputs": [],
   "source": [
    "import numpy as np\n",
    "from decimal import Decimal"
   ]
  },
  {
   "cell_type": "code",
   "execution_count": 3,
   "id": "cfba640c",
   "metadata": {},
   "outputs": [],
   "source": [
    "from latticemc.definitions import Lattice, LatticeState, OrderParametersHistory, DefiningParameters\n",
    "from latticemc.lattice_tools import initialize_partially_ordered\n",
    "from latticemc.random_quaternion import random_quaternion\n",
    "from latticemc.updaters import AcceptanceRateWiggleRateAdjustor, RandomWiggleRateAdjustor\n",
    "from latticemc.parallel import SimulationRunner, ProgressBarMode"
   ]
  },
  {
   "cell_type": "markdown",
   "id": "5f4f6606",
   "metadata": {},
   "source": [
    "## Set up simulation with TensorBoard logging enabled\n",
    "\n",
    "We'll create a simulation with multiple temperatures and enable TensorBoard logging.\n",
    "With the new immediate logging approach, data is logged as soon as it's received from simulation processes."
   ]
  },
  {
   "cell_type": "code",
   "execution_count": 4,
   "id": "e6730a93",
   "metadata": {},
   "outputs": [],
   "source": [
    "# Setup simulation with multiple temperatures\n",
    "temperatures = np.arange(0.3, 1.7, 0.05)  # Fewer temps for faster demo\n",
    "states = [LatticeState(parameters=DefiningParameters(temperature=round(Decimal(t), 2), lam=Decimal(0.3), tau=1),\n",
    "                       lattice=Lattice(8, 8, 8))  # Smaller lattice for faster demo\n",
    "          for t in temperatures]\n",
    "for state in states:\n",
    "    initialize_partially_ordered(state.lattice, x=random_quaternion(1.0))\n",
    "\n",
    "order_parameters_history = {state.parameters: OrderParametersHistory() for state in states}"
   ]
  },
  {
   "cell_type": "code",
   "execution_count": 5,
   "id": "156cf5cb",
   "metadata": {},
   "outputs": [],
   "source": [
    "# Setup updaters\n",
    "per_state_updaters = [\n",
    "    AcceptanceRateWiggleRateAdjustor(how_often=50, since_when=10),\n",
    "    RandomWiggleRateAdjustor(scale=0.001, how_often=10, since_when=10),\n",
    "    RandomWiggleRateAdjustor(scale=1.0, reset_value=1.0, how_often=500, since_when=500)\n",
    "]\n",
    "\n",
    "# Create simulation runner with TensorBoard logging and progress bars enabled\n",
    "runner = SimulationRunner(states,\n",
    "                         order_parameters_history,\n",
    "                         cycles=10000,  # Fewer cycles for faster demo\n",
    "                         report_order_parameters_every=100,\n",
    "                         report_state_every=500,\n",
    "                         per_state_updaters=per_state_updaters,\n",
    "                         parallel_tempering_interval=50,\n",
    "                         tensorboard_log_dir='./tensorboard_logs',\n",
    "                         progress_bar_mode=ProgressBarMode.NOTEBOOK)"
   ]
  },
  {
   "cell_type": "markdown",
   "id": "ffd8307b",
   "metadata": {},
   "source": [
    "## Start the simulation\n",
    "\n",
    "Run the simulation and TensorBoard logging will happen automatically as data is received:\n",
    "- Order parameters are logged immediately when received\n",
    "- Fluctuations are logged immediately when received  \n",
    "- Lattice states (including energy and acceptance rates) are logged when state updates are received"
   ]
  },
  {
   "cell_type": "markdown",
   "id": "2ef2cba9",
   "metadata": {},
   "source": [
    "## Progress Bars\n",
    "\n",
    "The simulation now includes progress bars to track the simulation progress:\n",
    "- **Main progress bar**: Shows overall simulation progress across all temperatures\n",
    "- **Per-simulation progress bars**: Individual progress for each temperature simulation\n",
    "\n",
    "These progress bars work seamlessly with TensorBoard logging and provide real-time feedback on simulation status."
   ]
  },
  {
   "cell_type": "code",
   "execution_count": 6,
   "id": "cadd86cb",
   "metadata": {},
   "outputs": [
    {
     "data": {
      "application/vnd.jupyter.widget-view+json": {
       "model_id": "fd985a11528548f3af9d5be418dc2c4d",
       "version_major": 2,
       "version_minor": 0
      },
      "text/plain": [
       "Overall Progress:   0%|          | 0/280000 [00:00<?, ?steps/s]"
      ]
     },
     "metadata": {},
     "output_type": "display_data"
    },
    {
     "data": {
      "application/vnd.jupyter.widget-view+json": {
       "model_id": "eab8157b08d84046924df2a58ecab30f",
       "version_major": 2,
       "version_minor": 0
      },
      "text/plain": [
       "Sim 0 (T=0.300):   0%|          | 0/10000 [00:00<?, ?steps/s]"
      ]
     },
     "metadata": {},
     "output_type": "display_data"
    },
    {
     "data": {
      "application/vnd.jupyter.widget-view+json": {
       "model_id": "26a6b31a6fe64db6b18ef6105be11404",
       "version_major": 2,
       "version_minor": 0
      },
      "text/plain": [
       "Sim 1 (T=0.350):   0%|          | 0/10000 [00:00<?, ?steps/s]"
      ]
     },
     "metadata": {},
     "output_type": "display_data"
    },
    {
     "data": {
      "application/vnd.jupyter.widget-view+json": {
       "model_id": "1eaa5b24a9eb4914abd5755c70f50475",
       "version_major": 2,
       "version_minor": 0
      },
      "text/plain": [
       "Sim 2 (T=0.400):   0%|          | 0/10000 [00:00<?, ?steps/s]"
      ]
     },
     "metadata": {},
     "output_type": "display_data"
    },
    {
     "data": {
      "application/vnd.jupyter.widget-view+json": {
       "model_id": "cec1b4f041f345b89b7afbc80a9932d1",
       "version_major": 2,
       "version_minor": 0
      },
      "text/plain": [
       "Sim 3 (T=0.450):   0%|          | 0/10000 [00:00<?, ?steps/s]"
      ]
     },
     "metadata": {},
     "output_type": "display_data"
    },
    {
     "data": {
      "application/vnd.jupyter.widget-view+json": {
       "model_id": "5c30d2e3c274430f81fbf0454e853af6",
       "version_major": 2,
       "version_minor": 0
      },
      "text/plain": [
       "Sim 4 (T=0.500):   0%|          | 0/10000 [00:00<?, ?steps/s]"
      ]
     },
     "metadata": {},
     "output_type": "display_data"
    },
    {
     "data": {
      "application/vnd.jupyter.widget-view+json": {
       "model_id": "a15bb60b6ecb4be9b1e1ccc0e12e81bf",
       "version_major": 2,
       "version_minor": 0
      },
      "text/plain": [
       "Sim 5 (T=0.550):   0%|          | 0/10000 [00:00<?, ?steps/s]"
      ]
     },
     "metadata": {},
     "output_type": "display_data"
    },
    {
     "data": {
      "application/vnd.jupyter.widget-view+json": {
       "model_id": "3383b9dcb3b44bb990525a0be766b21b",
       "version_major": 2,
       "version_minor": 0
      },
      "text/plain": [
       "Sim 6 (T=0.600):   0%|          | 0/10000 [00:00<?, ?steps/s]"
      ]
     },
     "metadata": {},
     "output_type": "display_data"
    },
    {
     "data": {
      "application/vnd.jupyter.widget-view+json": {
       "model_id": "457651edce1b4bf5b534e79975821b34",
       "version_major": 2,
       "version_minor": 0
      },
      "text/plain": [
       "Sim 7 (T=0.650):   0%|          | 0/10000 [00:00<?, ?steps/s]"
      ]
     },
     "metadata": {},
     "output_type": "display_data"
    },
    {
     "data": {
      "application/vnd.jupyter.widget-view+json": {
       "model_id": "73ea41144d2947249aba34f5773729ed",
       "version_major": 2,
       "version_minor": 0
      },
      "text/plain": [
       "Sim 8 (T=0.700):   0%|          | 0/10000 [00:00<?, ?steps/s]"
      ]
     },
     "metadata": {},
     "output_type": "display_data"
    },
    {
     "data": {
      "application/vnd.jupyter.widget-view+json": {
       "model_id": "61b05878dfef425c9518df2575b3f3a1",
       "version_major": 2,
       "version_minor": 0
      },
      "text/plain": [
       "Sim 9 (T=0.750):   0%|          | 0/10000 [00:00<?, ?steps/s]"
      ]
     },
     "metadata": {},
     "output_type": "display_data"
    },
    {
     "data": {
      "application/vnd.jupyter.widget-view+json": {
       "model_id": "9801fe506a7442a99fa136971c4b4f87",
       "version_major": 2,
       "version_minor": 0
      },
      "text/plain": [
       "Sim 10 (T=0.800):   0%|          | 0/10000 [00:00<?, ?steps/s]"
      ]
     },
     "metadata": {},
     "output_type": "display_data"
    },
    {
     "data": {
      "application/vnd.jupyter.widget-view+json": {
       "model_id": "f69ba4c1e7db4ac8835b6aa8b938f11b",
       "version_major": 2,
       "version_minor": 0
      },
      "text/plain": [
       "Sim 11 (T=0.850):   0%|          | 0/10000 [00:00<?, ?steps/s]"
      ]
     },
     "metadata": {},
     "output_type": "display_data"
    },
    {
     "data": {
      "application/vnd.jupyter.widget-view+json": {
       "model_id": "fff94820cacb44deab314af52c2cede5",
       "version_major": 2,
       "version_minor": 0
      },
      "text/plain": [
       "Sim 12 (T=0.900):   0%|          | 0/10000 [00:00<?, ?steps/s]"
      ]
     },
     "metadata": {},
     "output_type": "display_data"
    },
    {
     "data": {
      "application/vnd.jupyter.widget-view+json": {
       "model_id": "d54b3f1b3a6640aab812aa76ec633707",
       "version_major": 2,
       "version_minor": 0
      },
      "text/plain": [
       "Sim 13 (T=0.950):   0%|          | 0/10000 [00:00<?, ?steps/s]"
      ]
     },
     "metadata": {},
     "output_type": "display_data"
    },
    {
     "data": {
      "application/vnd.jupyter.widget-view+json": {
       "model_id": "a68a6ed9bf28470a8ad233e92b157308",
       "version_major": 2,
       "version_minor": 0
      },
      "text/plain": [
       "Sim 14 (T=1.000):   0%|          | 0/10000 [00:00<?, ?steps/s]"
      ]
     },
     "metadata": {},
     "output_type": "display_data"
    },
    {
     "data": {
      "application/vnd.jupyter.widget-view+json": {
       "model_id": "49ac67634ffb4adc8b455bc3afdac44d",
       "version_major": 2,
       "version_minor": 0
      },
      "text/plain": [
       "Sim 15 (T=1.050):   0%|          | 0/10000 [00:00<?, ?steps/s]"
      ]
     },
     "metadata": {},
     "output_type": "display_data"
    },
    {
     "data": {
      "application/vnd.jupyter.widget-view+json": {
       "model_id": "301868541c9145828b1671d85c0fe85d",
       "version_major": 2,
       "version_minor": 0
      },
      "text/plain": [
       "Sim 16 (T=1.100):   0%|          | 0/10000 [00:00<?, ?steps/s]"
      ]
     },
     "metadata": {},
     "output_type": "display_data"
    },
    {
     "data": {
      "application/vnd.jupyter.widget-view+json": {
       "model_id": "dbe1c01dbf304a0eba9bfae91a5655b0",
       "version_major": 2,
       "version_minor": 0
      },
      "text/plain": [
       "Sim 17 (T=1.150):   0%|          | 0/10000 [00:00<?, ?steps/s]"
      ]
     },
     "metadata": {},
     "output_type": "display_data"
    },
    {
     "data": {
      "application/vnd.jupyter.widget-view+json": {
       "model_id": "728e8b3b062c4509aa5c91b74b4563f4",
       "version_major": 2,
       "version_minor": 0
      },
      "text/plain": [
       "Sim 18 (T=1.200):   0%|          | 0/10000 [00:00<?, ?steps/s]"
      ]
     },
     "metadata": {},
     "output_type": "display_data"
    },
    {
     "data": {
      "application/vnd.jupyter.widget-view+json": {
       "model_id": "d6f0a63c302340c1bafe69c59b194864",
       "version_major": 2,
       "version_minor": 0
      },
      "text/plain": [
       "Sim 19 (T=1.250):   0%|          | 0/10000 [00:00<?, ?steps/s]"
      ]
     },
     "metadata": {},
     "output_type": "display_data"
    },
    {
     "data": {
      "application/vnd.jupyter.widget-view+json": {
       "model_id": "258f7e2d60864bd5aa7d1f71dfb71c18",
       "version_major": 2,
       "version_minor": 0
      },
      "text/plain": [
       "Sim 20 (T=1.300):   0%|          | 0/10000 [00:00<?, ?steps/s]"
      ]
     },
     "metadata": {},
     "output_type": "display_data"
    },
    {
     "data": {
      "application/vnd.jupyter.widget-view+json": {
       "model_id": "745bc741096148aca0d9c685b8f409c7",
       "version_major": 2,
       "version_minor": 0
      },
      "text/plain": [
       "Sim 21 (T=1.350):   0%|          | 0/10000 [00:00<?, ?steps/s]"
      ]
     },
     "metadata": {},
     "output_type": "display_data"
    },
    {
     "data": {
      "application/vnd.jupyter.widget-view+json": {
       "model_id": "d6c91b22eb4c44609aca126d208a0f91",
       "version_major": 2,
       "version_minor": 0
      },
      "text/plain": [
       "Sim 22 (T=1.400):   0%|          | 0/10000 [00:00<?, ?steps/s]"
      ]
     },
     "metadata": {},
     "output_type": "display_data"
    },
    {
     "data": {
      "application/vnd.jupyter.widget-view+json": {
       "model_id": "eb2d5ce0e79f4b82a2df393bd09bd11e",
       "version_major": 2,
       "version_minor": 0
      },
      "text/plain": [
       "Sim 23 (T=1.450):   0%|          | 0/10000 [00:00<?, ?steps/s]"
      ]
     },
     "metadata": {},
     "output_type": "display_data"
    },
    {
     "data": {
      "application/vnd.jupyter.widget-view+json": {
       "model_id": "bb475288d4ba4fd6bd2ef036d772b68e",
       "version_major": 2,
       "version_minor": 0
      },
      "text/plain": [
       "Sim 24 (T=1.500):   0%|          | 0/10000 [00:00<?, ?steps/s]"
      ]
     },
     "metadata": {},
     "output_type": "display_data"
    },
    {
     "data": {
      "application/vnd.jupyter.widget-view+json": {
       "model_id": "8920f1bdc8414bb3817a411ac8debc72",
       "version_major": 2,
       "version_minor": 0
      },
      "text/plain": [
       "Sim 25 (T=1.550):   0%|          | 0/10000 [00:00<?, ?steps/s]"
      ]
     },
     "metadata": {},
     "output_type": "display_data"
    },
    {
     "data": {
      "application/vnd.jupyter.widget-view+json": {
       "model_id": "8fef8c490bbf4308bb3d929842dcd9da",
       "version_major": 2,
       "version_minor": 0
      },
      "text/plain": [
       "Sim 26 (T=1.600):   0%|          | 0/10000 [00:00<?, ?steps/s]"
      ]
     },
     "metadata": {},
     "output_type": "display_data"
    },
    {
     "data": {
      "application/vnd.jupyter.widget-view+json": {
       "model_id": "9171303bf7ed427794a2a0d371de5ef0",
       "version_major": 2,
       "version_minor": 0
      },
      "text/plain": [
       "Sim 27 (T=1.650):   0%|          | 0/10000 [00:00<?, ?steps/s]"
      ]
     },
     "metadata": {},
     "output_type": "display_data"
    }
   ],
   "source": [
    "# Start the simulation\n",
    "runner.start()"
   ]
  },
  {
   "cell_type": "markdown",
   "id": "5c2ba43c",
   "metadata": {},
   "source": [
    "## Launch TensorBoard\n",
    "\n",
    "While the simulation is running, you can launch TensorBoard in a new terminal to visualize the progress:\n",
    "\n",
    "```bash\n",
    "tensorboard --logdir=./tensorboard_logs\n",
    "```\n",
    "\n",
    "This will start a local server, typically at http://localhost:6006, where you can view the visualizations.\n",
    "\n",
    "### What you'll see in TensorBoard:\n",
    "\n",
    "1. **Order Parameters**: Real-time plots of energy, q0, q2, w, p, d322 for each temperature\n",
    "2. **Fluctuations**: Real-time fluctuation measurements for each order parameter\n",
    "3. **Acceptance Rates**: Live monitoring of orientation and parity move acceptance rates\n",
    "4. **Lattice Energy**: Energy values from lattice averages updated as states are received"
   ]
  },
  {
   "cell_type": "code",
   "execution_count": 7,
   "id": "cd40cf56",
   "metadata": {},
   "outputs": [],
   "source": [
    "# If you want to stop the simulation early\n",
    "# runner.stop()"
   ]
  },
  {
   "cell_type": "code",
   "execution_count": null,
   "id": "61c63119",
   "metadata": {},
   "outputs": [],
   "source": [
    "# Check if the simulation is still running\n",
    "runner.alive()"
   ]
  },
  {
   "cell_type": "code",
   "execution_count": null,
   "id": "2c7d61e9",
   "metadata": {},
   "outputs": [],
   "source": [
    "# When done, check if it finished properly\n",
    "runner.finished_gracefully()"
   ]
  },
  {
   "cell_type": "markdown",
   "id": "b4bc6380",
   "metadata": {},
   "source": [
    "## Benefits of Immediate Logging\n",
    "\n",
    "The new immediate logging approach provides several advantages:\n",
    "\n",
    "1. **Real-time monitoring**: See data as soon as it's computed\n",
    "2. **Lower memory usage**: No need to batch data before logging\n",
    "3. **Better responsiveness**: TensorBoard updates continuously during simulation\n",
    "4. **Specific data logging**: Only log what's actually received/computed\n",
    "5. **Failure resilience**: Data is logged even if simulation crashes partway through"
   ]
  }
 ],
 "metadata": {
  "kernelspec": {
   "display_name": ".venv",
   "language": "python",
   "name": "python3"
  },
  "language_info": {
   "codemirror_mode": {
    "name": "ipython",
    "version": 3
   },
   "file_extension": ".py",
   "mimetype": "text/x-python",
   "name": "python",
   "nbconvert_exporter": "python",
   "pygments_lexer": "ipython3",
   "version": "3.12.10"
  }
 },
 "nbformat": 4,
 "nbformat_minor": 5
}

{
 "cells": [
  {
   "cell_type": "markdown",
   "id": "3b1391ed",
   "metadata": {},
   "source": [
    "# TensorBoard Integration with LatticeMC\n",
    "\n",
    "This notebook demonstrates how to use TensorBoard to visualize simulation progress with immediate logging."
   ]
  },
  {
   "cell_type": "code",
   "execution_count": 1,
   "id": "d3e45a82",
   "metadata": {},
   "outputs": [],
   "source": [
    "import numpy as np\n",
    "from decimal import Decimal"
   ]
  },
  {
   "cell_type": "code",
   "execution_count": 2,
   "id": "cfba640c",
   "metadata": {},
   "outputs": [],
   "source": [
    "from latticemc.definitions import Lattice, LatticeState, OrderParametersHistory, DefiningParameters\n",
    "from latticemc.lattice_tools import initialize_partially_ordered\n",
    "from latticemc.random_quaternion import random_quaternion\n",
    "from latticemc.updaters import AcceptanceRateWiggleRateAdjustor, RandomWiggleRateAdjustor\n",
    "from latticemc.parallel import SimulationRunner, ProgressBarMode"
   ]
  },
  {
   "cell_type": "markdown",
   "id": "5f4f6606",
   "metadata": {},
   "source": [
    "## Set up simulation with TensorBoard logging enabled\n",
    "\n",
    "We'll create a simulation with multiple temperatures and enable TensorBoard logging.\n",
    "With the new immediate logging approach, data is logged as soon as it's received from simulation processes."
   ]
  },
  {
   "cell_type": "code",
   "execution_count": 3,
   "id": "e6730a93",
   "metadata": {},
   "outputs": [],
   "source": [
    "# Setup simulation with multiple temperatures\n",
    "temperatures = np.arange(0.3, 1.7, 0.1)  # Fewer temps for faster demo\n",
    "states = [LatticeState(parameters=DefiningParameters(temperature=round(Decimal(t), 2), lam=Decimal(0.3), tau=1),\n",
    "                       lattice=Lattice(8, 8, 8))  # Smaller lattice for faster demo\n",
    "          for t in temperatures]\n",
    "for state in states:\n",
    "    initialize_partially_ordered(state.lattice, x=random_quaternion(1.0))\n",
    "\n",
    "order_parameters_history = {state.parameters: OrderParametersHistory() for state in states}"
   ]
  },
  {
   "cell_type": "code",
   "execution_count": null,
   "id": "156cf5cb",
   "metadata": {},
   "outputs": [],
   "source": [
    "# Setup updaters\n",
    "per_state_updaters = [\n",
    "    AcceptanceRateWiggleRateAdjustor(how_often=100, since_when=100),\n",
    "    RandomWiggleRateAdjustor(scale=0.001, how_often=100, since_when=100),\n",
    "    RandomWiggleRateAdjustor(scale=1.0, reset_value=1.0, how_often=500, since_when=500)\n",
    "]\n",
    "\n",
    "# Create simulation runner with TensorBoard logging and progress bars enabled\n",
    "# TensorBoard logs will automatically be saved to working_folder/tensorboard\n",
    "runner = SimulationRunner(states,\n",
    "                         order_parameters_history,\n",
    "                         cycles=10000,\n",
    "                         report_order_parameters_every=50,\n",
    "                         report_state_every=50,\n",
    "                         per_state_updaters=per_state_updaters,\n",
    "                         parallel_tempering_interval=50,\n",
    "                         save_interval=100,\n",
    "                         plot_recent_points=1000,\n",
    "                         working_folder='./tensorboard_demo',  # TensorBoard logs go to ./tensorboard_demo/tensorboard\n",
    "                         progress_bar_mode=ProgressBarMode.NOTEBOOK)"
   ]
  },
  {
   "cell_type": "markdown",
   "id": "ffd8307b",
   "metadata": {},
   "source": [
    "## Start the simulation\n",
    "\n",
    "Run the simulation and TensorBoard logging will happen automatically as data is received:\n",
    "- Order parameters are logged immediately when received\n",
    "- Fluctuations are logged immediately when received  \n",
    "- Lattice states (including energy and acceptance rates) are logged when state updates are received"
   ]
  },
  {
   "cell_type": "markdown",
   "id": "2ef2cba9",
   "metadata": {},
   "source": [
    "## Progress Bars\n",
    "\n",
    "The simulation now includes progress bars to track the simulation progress:\n",
    "- **Main progress bar**: Shows overall simulation progress across all temperatures\n",
    "- **Per-simulation progress bars**: Individual progress for each temperature simulation\n",
    "\n",
    "These progress bars work seamlessly with TensorBoard logging and provide real-time feedback on simulation status."
   ]
  },
  {
   "cell_type": "code",
   "execution_count": 5,
   "id": "cadd86cb",
   "metadata": {},
   "outputs": [
    {
     "data": {
      "application/vnd.jupyter.widget-view+json": {
       "model_id": "05bbf740d347488ba11c1706bd2916a0",
       "version_major": 2,
       "version_minor": 0
      },
      "text/plain": [
       "Overall Progress:   0%|          | 0/140000 [00:00<?, ?steps/s]"
      ]
     },
     "metadata": {},
     "output_type": "display_data"
    },
    {
     "data": {
      "application/vnd.jupyter.widget-view+json": {
       "model_id": "3373872b182d4f99bb0d9398486926b3",
       "version_major": 2,
       "version_minor": 0
      },
      "text/plain": [
       "Sim 0 (T=0.300):   0%|          | 0/10000 [00:00<?, ?steps/s]"
      ]
     },
     "metadata": {},
     "output_type": "display_data"
    },
    {
     "data": {
      "application/vnd.jupyter.widget-view+json": {
       "model_id": "398aad854bee45d9803ef236037f1223",
       "version_major": 2,
       "version_minor": 0
      },
      "text/plain": [
       "Sim 1 (T=0.400):   0%|          | 0/10000 [00:00<?, ?steps/s]"
      ]
     },
     "metadata": {},
     "output_type": "display_data"
    },
    {
     "data": {
      "application/vnd.jupyter.widget-view+json": {
       "model_id": "97cc2c9168c240c191f2e6eba475acbc",
       "version_major": 2,
       "version_minor": 0
      },
      "text/plain": [
       "Sim 2 (T=0.500):   0%|          | 0/10000 [00:00<?, ?steps/s]"
      ]
     },
     "metadata": {},
     "output_type": "display_data"
    },
    {
     "data": {
      "application/vnd.jupyter.widget-view+json": {
       "model_id": "187266e57f0144768fa56496b96af816",
       "version_major": 2,
       "version_minor": 0
      },
      "text/plain": [
       "Sim 3 (T=0.600):   0%|          | 0/10000 [00:00<?, ?steps/s]"
      ]
     },
     "metadata": {},
     "output_type": "display_data"
    },
    {
     "data": {
      "application/vnd.jupyter.widget-view+json": {
       "model_id": "eb4b4d2a11554905858039e9475b6a1d",
       "version_major": 2,
       "version_minor": 0
      },
      "text/plain": [
       "Sim 4 (T=0.700):   0%|          | 0/10000 [00:00<?, ?steps/s]"
      ]
     },
     "metadata": {},
     "output_type": "display_data"
    },
    {
     "data": {
      "application/vnd.jupyter.widget-view+json": {
       "model_id": "dbca53c570354c3d9d6ba84d821a6662",
       "version_major": 2,
       "version_minor": 0
      },
      "text/plain": [
       "Sim 5 (T=0.800):   0%|          | 0/10000 [00:00<?, ?steps/s]"
      ]
     },
     "metadata": {},
     "output_type": "display_data"
    },
    {
     "data": {
      "application/vnd.jupyter.widget-view+json": {
       "model_id": "74ae19f64fd549a6b245bfa470877af6",
       "version_major": 2,
       "version_minor": 0
      },
      "text/plain": [
       "Sim 6 (T=0.900):   0%|          | 0/10000 [00:00<?, ?steps/s]"
      ]
     },
     "metadata": {},
     "output_type": "display_data"
    },
    {
     "data": {
      "application/vnd.jupyter.widget-view+json": {
       "model_id": "0ce044ec25c14f8abfc26b12bf0f5ff5",
       "version_major": 2,
       "version_minor": 0
      },
      "text/plain": [
       "Sim 7 (T=1.000):   0%|          | 0/10000 [00:00<?, ?steps/s]"
      ]
     },
     "metadata": {},
     "output_type": "display_data"
    },
    {
     "data": {
      "application/vnd.jupyter.widget-view+json": {
       "model_id": "aa4a067980f84bbca648528d7f469a25",
       "version_major": 2,
       "version_minor": 0
      },
      "text/plain": [
       "Sim 8 (T=1.100):   0%|          | 0/10000 [00:00<?, ?steps/s]"
      ]
     },
     "metadata": {},
     "output_type": "display_data"
    },
    {
     "data": {
      "application/vnd.jupyter.widget-view+json": {
       "model_id": "22b808b2594f4420a752f20af21f283f",
       "version_major": 2,
       "version_minor": 0
      },
      "text/plain": [
       "Sim 9 (T=1.200):   0%|          | 0/10000 [00:00<?, ?steps/s]"
      ]
     },
     "metadata": {},
     "output_type": "display_data"
    },
    {
     "data": {
      "application/vnd.jupyter.widget-view+json": {
       "model_id": "18aa7a43cca1446fbec28d9693d20d7d",
       "version_major": 2,
       "version_minor": 0
      },
      "text/plain": [
       "Sim 10 (T=1.300):   0%|          | 0/10000 [00:00<?, ?steps/s]"
      ]
     },
     "metadata": {},
     "output_type": "display_data"
    },
    {
     "data": {
      "application/vnd.jupyter.widget-view+json": {
       "model_id": "2b7ea098e2714a418d495c7aea333428",
       "version_major": 2,
       "version_minor": 0
      },
      "text/plain": [
       "Sim 11 (T=1.400):   0%|          | 0/10000 [00:00<?, ?steps/s]"
      ]
     },
     "metadata": {},
     "output_type": "display_data"
    },
    {
     "data": {
      "application/vnd.jupyter.widget-view+json": {
       "model_id": "5514b01e0f78477899c6a3025c5f57d2",
       "version_major": 2,
       "version_minor": 0
      },
      "text/plain": [
       "Sim 12 (T=1.500):   0%|          | 0/10000 [00:00<?, ?steps/s]"
      ]
     },
     "metadata": {},
     "output_type": "display_data"
    },
    {
     "data": {
      "application/vnd.jupyter.widget-view+json": {
       "model_id": "2ce2379425c548b8b2dd9be8d0505f68",
       "version_major": 2,
       "version_minor": 0
      },
      "text/plain": [
       "Sim 13 (T=1.600):   0%|          | 0/10000 [00:00<?, ?steps/s]"
      ]
     },
     "metadata": {},
     "output_type": "display_data"
    }
   ],
   "source": [
    "# Start the simulation\n",
    "runner.start()"
   ]
  },
  {
   "cell_type": "markdown",
   "id": "5c2ba43c",
   "metadata": {},
   "source": [
    "## Launch TensorBoard\n",
    "\n",
    "While the simulation is running, you can launch TensorBoard in a new terminal to visualize the progress:\n",
    "\n",
    "```bash\n",
    "tensorboard --logdir=./tensorboard_demo/tensorboard\n",
    "```\n",
    "\n",
    "This will start a local server, typically at http://localhost:6006, where you can view the visualizations.\n",
    "\n",
    "### What you'll see in TensorBoard:\n",
    "\n",
    "1. **Order Parameters**: Real-time plots of energy, q0, q2, w, p, d322 for each temperature\n",
    "2. **Fluctuations**: Real-time fluctuation measurements for each order parameter\n",
    "3. **Acceptance Rates**: Live monitoring of orientation and parity move acceptance rates\n",
    "4. **Lattice Energy**: Energy values from lattice averages updated as states are received"
   ]
  },
  {
   "cell_type": "code",
   "execution_count": null,
   "id": "cd40cf56",
   "metadata": {},
   "outputs": [
    {
     "name": "stderr",
     "output_type": "stream",
     "text": [
      "Simulation failed: Process(es) [0, 2, 10] died unexpectedly\n",
      "SimulationRunner: Stopping due to error: Simulation failed: Process(es) [0, 2, 10] died unexpectedly\n",
      "Exception in thread Thread-3:\n",
      "Traceback (most recent call last):\n",
      "  File \"C:\\Python312\\Lib\\threading.py\", line 1075, in _bootstrap_inner\n",
      "    self.run()\n",
      "  File \"v:\\Devel\\latticemc\\latticemc\\parallel.py\", line 319, in run\n",
      "    raise e\n",
      "  File \"v:\\Devel\\latticemc\\latticemc\\parallel.py\", line 315, in run\n",
      "    self._check_for_crashed_processes()\n",
      "  File \"v:\\Devel\\latticemc\\latticemc\\parallel.py\", line 399, in _check_for_crashed_processes\n",
      "    raise RuntimeError(error_msg)\n",
      "RuntimeError: Simulation failed: Process(es) [0, 2, 10] died unexpectedly\n"
     ]
    }
   ],
   "source": [
    "# If you want to stop the simulation early\n",
    "runner.stop()"
   ]
  },
  {
   "cell_type": "code",
   "execution_count": null,
   "id": "61c63119",
   "metadata": {},
   "outputs": [],
   "source": [
    "# Check if the simulation is still running\n",
    "runner.alive()"
   ]
  },
  {
   "cell_type": "code",
   "execution_count": null,
   "id": "2c7d61e9",
   "metadata": {},
   "outputs": [],
   "source": [
    "# When done, check if it finished properly\n",
    "runner.finished_gracefully()"
   ]
  },
  {
   "cell_type": "markdown",
   "id": "b4bc6380",
   "metadata": {},
   "source": [
    "## Benefits of Immediate Logging\n",
    "\n",
    "The new immediate logging approach provides several advantages:\n",
    "\n",
    "1. **Real-time monitoring**: See data as soon as it's computed\n",
    "2. **Lower memory usage**: No need to batch data before logging\n",
    "3. **Better responsiveness**: TensorBoard updates continuously during simulation\n",
    "4. **Specific data logging**: Only log what's actually received/computed\n",
    "5. **Failure resilience**: Data is logged even if simulation crashes partway through"
   ]
  }
 ],
 "metadata": {
  "kernelspec": {
   "display_name": ".venv",
   "language": "python",
   "name": "python3"
  },
  "language_info": {
   "codemirror_mode": {
    "name": "ipython",
    "version": 3
   },
   "file_extension": ".py",
   "mimetype": "text/x-python",
   "name": "python",
   "nbconvert_exporter": "python",
   "pygments_lexer": "ipython3",
   "version": "3.12.10"
  }
 },
 "nbformat": 4,
 "nbformat_minor": 5
}
